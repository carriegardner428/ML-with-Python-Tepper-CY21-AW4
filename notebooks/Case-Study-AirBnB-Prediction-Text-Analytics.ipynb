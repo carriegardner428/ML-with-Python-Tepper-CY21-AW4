{
 "metadata": {
  "language_info": {
   "codemirror_mode": {
    "name": "ipython",
    "version": 3
   },
   "file_extension": ".py",
   "mimetype": "text/x-python",
   "name": "python",
   "nbconvert_exporter": "python",
   "pygments_lexer": "ipython3",
   "version": "3.7.10-final"
  },
  "orig_nbformat": 2,
  "kernelspec": {
   "name": "python3",
   "display_name": "Python 3.7.10 64-bit ('tf2': conda)",
   "metadata": {
    "interpreter": {
     "hash": "7360b797e7c8a7382d9f9763b181530c2cece6023e2baab31f0c30233d575ae5"
    }
   }
  }
 },
 "nbformat": 4,
 "nbformat_minor": 2,
 "cells": [
  {
   "source": [
    "# Case Study AirBnB Prediction - Text Analytics\n",
    "This notebook walks through how to \n",
    "- extract keywords described in comments \n",
    "- use a pre-trained text analytics model to classify text"
   ],
   "cell_type": "markdown",
   "metadata": {}
  },
  {
   "cell_type": "code",
   "execution_count": 4,
   "metadata": {},
   "outputs": [],
   "source": [
    "# Data Representation\n",
    "import numpy as np\n",
    "import pandas as pd\n",
    "\n",
    "# Processing & Modeling\n",
    "import sklearn\n",
    "from sklearn.compose import ColumnTransformer\n",
    "from sklearn.impute import SimpleImputer\n",
    "from sklearn.model_selection import train_test_split\n",
    "from sklearn.pipeline import Pipeline\n",
    "from sklearn.preprocessing import OneHotEncoder, StandardScaler\n",
    "\n",
    "\n",
    "from sklearn.metrics import mean_absolute_error, mean_squared_error, r2_score\n",
    "\n",
    "from sklearn import set_config\n",
    "set_config(display='diagram')\n",
    "\n",
    "import spacy\n",
    "nlp = spacy.load('en_core_web_sm')\n",
    "\n",
    "# https://github.com/huggingface/transformers\n",
    "import transformers\n",
    "\n",
    "# Visualization\n",
    "import plotly.express as px\n",
    "\n",
    "random_state = 42\n",
    "pd.set_option('display.max_rows', 100)"
   ]
  },
  {
   "cell_type": "code",
   "execution_count": 5,
   "metadata": {},
   "outputs": [
    {
     "output_type": "stream",
     "name": "stdout",
     "text": [
      "Apple\nis\nlooking\nat\nbuying\na\nU.K.\nstartup\nfor\n$\n1\nbillion\n"
     ]
    }
   ],
   "source": [
    "doc = nlp(u\"Apple is looking at buying a U.K. startup for $1 billion\")\n",
    "for token in doc:\n",
    "    print(token.text)"
   ]
  },
  {
   "cell_type": "code",
   "execution_count": 6,
   "metadata": {},
   "outputs": [
    {
     "output_type": "execute_result",
     "data": {
      "text/plain": [
       "(Apple, U.K., $1 billion)"
      ]
     },
     "metadata": {},
     "execution_count": 6
    }
   ],
   "source": [
    "doc = nlp(u\"Apple is looking at buying a U.K. startup for $1 billion\")\n",
    "doc.ents"
   ]
  },
  {
   "cell_type": "code",
   "execution_count": 7,
   "metadata": {},
   "outputs": [
    {
     "output_type": "stream",
     "name": "stdout",
     "text": [
      "Apple 0 5 ORG\nU.K. 29 33 GPE\n$1 billion 46 56 MONEY\n"
     ]
    }
   ],
   "source": [
    "for ent in doc.ents:\n",
    "    print(ent.text, ent.start_char, ent.end_char, ent.label_)"
   ]
  },
  {
   "source": [
    "## Task 1: Extract Entities in Reviews\n",
    "Let's take the first 50 reviews and grab any entities referred to"
   ],
   "cell_type": "markdown",
   "metadata": {}
  },
  {
   "cell_type": "code",
   "execution_count": 9,
   "metadata": {},
   "outputs": [],
   "source": [
    "link = 'https://drive.google.com/file/d/1-JRyJEw1K9SysORKOCu36uxujjxFBKq5/view?usp=sharing'\n",
    "path = 'https://drive.google.com/uc?export=download&id='+link.split('/')[-2]"
   ]
  },
  {
   "cell_type": "code",
   "execution_count": 10,
   "metadata": {},
   "outputs": [
    {
     "output_type": "execute_result",
     "data": {
      "text/plain": [
       "   listing_id        id        date  reviewer_id reviewer_name  \\\n",
       "0     7202016  38917982  2015-07-19     28943674        Bianca   \n",
       "\n",
       "                                            comments  \n",
       "0  Cute and cozy place. Perfect location to every...  "
      ],
      "text/html": "<div>\n<style scoped>\n    .dataframe tbody tr th:only-of-type {\n        vertical-align: middle;\n    }\n\n    .dataframe tbody tr th {\n        vertical-align: top;\n    }\n\n    .dataframe thead th {\n        text-align: right;\n    }\n</style>\n<table border=\"1\" class=\"dataframe\">\n  <thead>\n    <tr style=\"text-align: right;\">\n      <th></th>\n      <th>listing_id</th>\n      <th>id</th>\n      <th>date</th>\n      <th>reviewer_id</th>\n      <th>reviewer_name</th>\n      <th>comments</th>\n    </tr>\n  </thead>\n  <tbody>\n    <tr>\n      <th>0</th>\n      <td>7202016</td>\n      <td>38917982</td>\n      <td>2015-07-19</td>\n      <td>28943674</td>\n      <td>Bianca</td>\n      <td>Cute and cozy place. Perfect location to every...</td>\n    </tr>\n  </tbody>\n</table>\n</div>"
     },
     "metadata": {},
     "execution_count": 10
    }
   ],
   "source": [
    "reviews_df = pd.read_csv(path)\n",
    "reviews_df.head(1)"
   ]
  },
  {
   "cell_type": "code",
   "execution_count": 11,
   "metadata": {},
   "outputs": [
    {
     "output_type": "execute_result",
     "data": {
      "text/plain": [
       "(84849, 6)"
      ]
     },
     "metadata": {},
     "execution_count": 11
    }
   ],
   "source": [
    "reviews_df.shape"
   ]
  },
  {
   "cell_type": "code",
   "execution_count": 13,
   "metadata": {},
   "outputs": [
    {
     "output_type": "stream",
     "name": "stdout",
     "text": [
      "The reviews are from 2009-06-07 to 2016-01-03\n"
     ]
    }
   ],
   "source": [
    "print(f\"The reviews are from {reviews_df['date'].min()} to {reviews_df['date'].max()}\")"
   ]
  },
  {
   "cell_type": "code",
   "execution_count": 129,
   "metadata": {},
   "outputs": [],
   "source": [
    "# Get the entity\n",
    "def extract_entities(text):\n",
    "    doc = nlp(text)\n",
    "    entities = [entity.text for entity in doc.ents]\n",
    "    return entities\n",
    "\n",
    "# Get the entity label\n",
    "def extract_entity_labels(text):\n",
    "    doc = nlp(text)\n",
    "    entities = [entity.label_ for entity in doc.ents]\n",
    "    return entities"
   ]
  },
  {
   "cell_type": "code",
   "execution_count": 185,
   "metadata": {},
   "outputs": [
    {
     "output_type": "execute_result",
     "data": {
      "text/plain": [
       "                                                   X\n",
       "0                            Google amazon texas ten\n",
       "1  Apple is looking at buying U.K. startup for $1...\n",
       "2                Carnegie Mellon University is great"
      ],
      "text/html": "<div>\n<style scoped>\n    .dataframe tbody tr th:only-of-type {\n        vertical-align: middle;\n    }\n\n    .dataframe tbody tr th {\n        vertical-align: top;\n    }\n\n    .dataframe thead th {\n        text-align: right;\n    }\n</style>\n<table border=\"1\" class=\"dataframe\">\n  <thead>\n    <tr style=\"text-align: right;\">\n      <th></th>\n      <th>X</th>\n    </tr>\n  </thead>\n  <tbody>\n    <tr>\n      <th>0</th>\n      <td>Google amazon texas ten</td>\n    </tr>\n    <tr>\n      <th>1</th>\n      <td>Apple is looking at buying U.K. startup for $1...</td>\n    </tr>\n    <tr>\n      <th>2</th>\n      <td>Carnegie Mellon University is great</td>\n    </tr>\n  </tbody>\n</table>\n</div>"
     },
     "metadata": {},
     "execution_count": 185
    }
   ],
   "source": [
    "# Demo text\n",
    "text = [\n",
    "    'Google amazon texas ten',\n",
    "    'Apple is looking at buying U.K. startup for $1 Billion',\n",
    "    'Carnegie Mellon University is great'\n",
    "]\n",
    "text_df = pd.DataFrame({'X': text})\n",
    "text_df"
   ]
  },
  {
   "cell_type": "code",
   "execution_count": 132,
   "metadata": {},
   "outputs": [
    {
     "output_type": "execute_result",
     "data": {
      "text/plain": [
       "0                           [ten]\n",
       "1       [Apple, U.K., $1 Billion]\n",
       "2    [Carnegie Mellon University]\n",
       "Name: X, dtype: object"
      ]
     },
     "metadata": {},
     "execution_count": 132
    }
   ],
   "source": [
    "test_df['X'].apply(extract_entities)"
   ]
  },
  {
   "cell_type": "code",
   "execution_count": 133,
   "metadata": {},
   "outputs": [
    {
     "output_type": "execute_result",
     "data": {
      "text/plain": [
       "0           [CARDINAL]\n",
       "1    [ORG, GPE, MONEY]\n",
       "2                [ORG]\n",
       "Name: X, dtype: object"
      ]
     },
     "metadata": {},
     "execution_count": 133
    }
   ],
   "source": [
    "test_df['X'].apply(extract_entity_labels)"
   ]
  },
  {
   "cell_type": "code",
   "execution_count": 134,
   "metadata": {},
   "outputs": [
    {
     "output_type": "execute_result",
     "data": {
      "text/plain": [
       "0                                                    []\n",
       "1                          [Kelly, Seattle Center, WOW]\n",
       "2                                 [Kelly, 5 pm, Friday]\n",
       "3                   [Space Needle, Metropolitan, Kelly]\n",
       "4                           [Kelly, the Seattle Center]\n",
       "5                      [Kelly, Seattle, 2015, all week]\n",
       "6                                               [Kelly]\n",
       "7                     [Seattle, the weekend, Kelly, 50]\n",
       "8        [Kelly, Lower, Anne, Belltown, Seattle, Kelly]\n",
       "9                                                    []\n",
       "10      [Clean Linen, Towels, Neighbourhood, 10, Kelly]\n",
       "11               [Kelly, a moment one evening, Seattle]\n",
       "12                                            [Seattle]\n",
       "13                                                   []\n",
       "14                                         [Kelly, One]\n",
       "15                                     [Kelly, Seattle]\n",
       "16                                       [Rachel & Jon]\n",
       "17                                       [Rachel & Jon]\n",
       "18                                            [Seattle]\n",
       "19                                           [Brigette]\n",
       "20                                                   []\n",
       "21                               [Seattle, Jon, Rachel]\n",
       "22                                                   []\n",
       "23                                            [Seattle]\n",
       "24                                             [Rachel]\n",
       "25                                       [Seattle, two]\n",
       "26                                      [four, Seattle]\n",
       "27                                       [one, Seattle]\n",
       "28        [morning, all day, about 35 minutes, Seattle]\n",
       "29        [Jon, Brigitte, barely 2 miles, Capitol Hill]\n",
       "30    [John, Rachel, Capitol Hill, a quiet night, Se...\n",
       "31    [Rachel, 7, Seattle, Seattle, Five, later that...\n",
       "32                                              [night]\n",
       "33                              [Rachel & Jon's, House]\n",
       "34                                                   []\n",
       "35                      [Jon & Rachel, Rachel, Seattle]\n",
       "36                                                   []\n",
       "37    [second, Seattle, Brigitte, each night, the Ce...\n",
       "38                                           [Brigitte]\n",
       "39                                                   []\n",
       "40                                     [Rachel & Jon's]\n",
       "41                              [Seattle, Capitol Hill]\n",
       "42                           [one night, B.C., Awesome]\n",
       "43                             [several hours, Seattle]\n",
       "44                                 [95 degree, Seattle]\n",
       "45                       [Seattle, 95, midday, Seattle]\n",
       "46                   [Rachel & Jon, the morning, first]\n",
       "47    [first, the Corner Room, Rachel & John, the Fr...\n",
       "48                                [Capitol Hill, Lyfts]\n",
       "49    [Kelli, I., Seattle, Seattle, Seattle, Kelli, ...\n",
       "Name: comments, dtype: object"
      ]
     },
     "metadata": {},
     "execution_count": 134
    }
   ],
   "source": [
    "# Now let's try it on the reviews \n",
    "reviews_df['comments'].head(50).apply(extract_entities)"
   ]
  },
  {
   "cell_type": "code",
   "execution_count": 135,
   "metadata": {},
   "outputs": [
    {
     "output_type": "execute_result",
     "data": {
      "text/plain": [
       "0                                                    []\n",
       "1                          [Kelly, Seattle Center, WOW]\n",
       "2                                 [Kelly, 5 pm, Friday]\n",
       "3                   [Space Needle, Metropolitan, Kelly]\n",
       "4                           [Kelly, the Seattle Center]\n",
       "5                      [Kelly, Seattle, 2015, all week]\n",
       "6                                               [Kelly]\n",
       "7                     [Seattle, the weekend, Kelly, 50]\n",
       "8        [Kelly, Lower, Anne, Belltown, Seattle, Kelly]\n",
       "9                                                    []\n",
       "10      [Clean Linen, Towels, Neighbourhood, 10, Kelly]\n",
       "11               [Kelly, a moment one evening, Seattle]\n",
       "12                                            [Seattle]\n",
       "13                                                   []\n",
       "14                                         [Kelly, One]\n",
       "15                                     [Kelly, Seattle]\n",
       "16                                       [Rachel & Jon]\n",
       "17                                       [Rachel & Jon]\n",
       "18                                            [Seattle]\n",
       "19                                           [Brigette]\n",
       "20                                                   []\n",
       "21                               [Seattle, Jon, Rachel]\n",
       "22                                                   []\n",
       "23                                            [Seattle]\n",
       "24                                             [Rachel]\n",
       "25                                       [Seattle, two]\n",
       "26                                      [four, Seattle]\n",
       "27                                       [one, Seattle]\n",
       "28        [morning, all day, about 35 minutes, Seattle]\n",
       "29        [Jon, Brigitte, barely 2 miles, Capitol Hill]\n",
       "30    [John, Rachel, Capitol Hill, a quiet night, Se...\n",
       "31    [Rachel, 7, Seattle, Seattle, Five, later that...\n",
       "32                                              [night]\n",
       "33                              [Rachel & Jon's, House]\n",
       "34                                                   []\n",
       "35                      [Jon & Rachel, Rachel, Seattle]\n",
       "36                                                   []\n",
       "37    [second, Seattle, Brigitte, each night, the Ce...\n",
       "38                                           [Brigitte]\n",
       "39                                                   []\n",
       "40                                     [Rachel & Jon's]\n",
       "41                              [Seattle, Capitol Hill]\n",
       "42                           [one night, B.C., Awesome]\n",
       "43                             [several hours, Seattle]\n",
       "44                                 [95 degree, Seattle]\n",
       "45                       [Seattle, 95, midday, Seattle]\n",
       "46                   [Rachel & Jon, the morning, first]\n",
       "47    [first, the Corner Room, Rachel & John, the Fr...\n",
       "48                                [Capitol Hill, Lyfts]\n",
       "49    [Kelli, I., Seattle, Seattle, Seattle, Kelli, ...\n",
       "Name: comments, dtype: object"
      ]
     },
     "metadata": {},
     "execution_count": 135
    }
   ],
   "source": [
    "reviews_df['comments'].head(50).apply(extract_entities)"
   ]
  },
  {
   "source": [
    "## Task 2: Classify Text w/Pre-Trained Model\n",
    "Please see [Zero-Shot Learning in Modern NLP](https://joeddav.github.io/blog/2020/05/29/ZSL.html)"
   ],
   "cell_type": "markdown",
   "metadata": {}
  },
  {
   "cell_type": "code",
   "execution_count": 136,
   "metadata": {},
   "outputs": [
    {
     "output_type": "stream",
     "name": "stderr",
     "text": [
      "Some layers from the model checkpoint at roberta-large-mnli were not used when initializing TFRobertaModel: ['classifier']\n",
      "- This IS expected if you are initializing TFRobertaModel from the checkpoint of a model trained on another task or with another architecture (e.g. initializing a BertForSequenceClassification model from a BertForPreTraining model).\n",
      "- This IS NOT expected if you are initializing TFRobertaModel from the checkpoint of a model that you expect to be exactly identical (initializing a BertForSequenceClassification model from a BertForSequenceClassification model).\n",
      "All the layers of TFRobertaModel were initialized from the model checkpoint at roberta-large-mnli.\n",
      "If your task is similar to the task the model of the checkpoint was trained on, you can already use TFRobertaModel for predictions without further training.\n",
      "All model checkpoint layers were used when initializing TFRobertaForSequenceClassification.\n",
      "\n",
      "All the layers of TFRobertaForSequenceClassification were initialized from the model checkpoint at roberta-large-mnli.\n",
      "If your task is similar to the task the model of the checkpoint was trained on, you can already use TFRobertaForSequenceClassification for predictions without further training.\n"
     ]
    }
   ],
   "source": [
    "classifier = transformers.pipeline(\"zero-shot-classification\", device=0)"
   ]
  },
  {
   "cell_type": "code",
   "execution_count": 137,
   "metadata": {},
   "outputs": [
    {
     "output_type": "execute_result",
     "data": {
      "text/plain": [
       "{'sequence': 'Python is the best langauge ever!!!',\n",
       " 'labels': ['positive', 'negative'],\n",
       " 'scores': [0.9931901693344116, 0.006809812970459461]}"
      ]
     },
     "metadata": {},
     "execution_count": 137
    }
   ],
   "source": [
    "sequence = \"Python is the best langauge ever!!!\"\n",
    "candidate_labels = [\"negative\", \"positive\"]\n",
    "\n",
    "classifier(sequence, candidate_labels)"
   ]
  },
  {
   "cell_type": "code",
   "execution_count": 187,
   "metadata": {},
   "outputs": [
    {
     "output_type": "execute_result",
     "data": {
      "text/plain": [
       "'negative'"
      ]
     },
     "metadata": {},
     "execution_count": 187
    }
   ],
   "source": [
    "classifier('NY Giants Sucks', candidate_labels)['labels'][0]"
   ]
  },
  {
   "cell_type": "code",
   "execution_count": 193,
   "metadata": {},
   "outputs": [],
   "source": [
    "sentiment_labels = ['positive', 'negative']\n",
    "\n",
    "def label_sentiment(text):\n",
    "    return classifier(text, sentiment_labels)['labels'][0]\n",
    "\n",
    "def sentiment_score(text):\n",
    "    return classifier(text, sentiment_labels)['scores'][0]"
   ]
  },
  {
   "cell_type": "code",
   "execution_count": 194,
   "metadata": {},
   "outputs": [
    {
     "output_type": "execute_result",
     "data": {
      "text/plain": [
       "                                                   X\n",
       "0                            Google amazon texas ten\n",
       "1  Apple is looking at buying U.K. startup for $1...\n",
       "2                Carnegie Mellon University is great\n",
       "3                                     NY Giants suck\n",
       "4                       NY Giants are the worst team"
      ],
      "text/html": "<div>\n<style scoped>\n    .dataframe tbody tr th:only-of-type {\n        vertical-align: middle;\n    }\n\n    .dataframe tbody tr th {\n        vertical-align: top;\n    }\n\n    .dataframe thead th {\n        text-align: right;\n    }\n</style>\n<table border=\"1\" class=\"dataframe\">\n  <thead>\n    <tr style=\"text-align: right;\">\n      <th></th>\n      <th>X</th>\n    </tr>\n  </thead>\n  <tbody>\n    <tr>\n      <th>0</th>\n      <td>Google amazon texas ten</td>\n    </tr>\n    <tr>\n      <th>1</th>\n      <td>Apple is looking at buying U.K. startup for $1...</td>\n    </tr>\n    <tr>\n      <th>2</th>\n      <td>Carnegie Mellon University is great</td>\n    </tr>\n    <tr>\n      <th>3</th>\n      <td>NY Giants suck</td>\n    </tr>\n    <tr>\n      <th>4</th>\n      <td>NY Giants are the worst team</td>\n    </tr>\n  </tbody>\n</table>\n</div>"
     },
     "metadata": {},
     "execution_count": 194
    }
   ],
   "source": [
    "# Demo text\n",
    "text = [\n",
    "    'Google amazon texas ten',\n",
    "    'Apple is looking at buying U.K. startup for $1 Billion',\n",
    "    'Carnegie Mellon University is great',\n",
    "    'NY Giants suck',\n",
    "    'NY Giants are the worst team'\n",
    "]\n",
    "text_df = pd.DataFrame({'X': text})\n",
    "text_df"
   ]
  },
  {
   "cell_type": "code",
   "execution_count": 195,
   "metadata": {},
   "outputs": [
    {
     "output_type": "execute_result",
     "data": {
      "text/plain": [
       "                                                   X sentiment     score\n",
       "0                            Google amazon texas ten  positive  0.645827\n",
       "1  Apple is looking at buying U.K. startup for $1...  positive  0.534415\n",
       "2                Carnegie Mellon University is great  positive  0.996467\n",
       "3                                     NY Giants suck  negative  0.990939\n",
       "4                       NY Giants are the worst team  negative  0.991825"
      ],
      "text/html": "<div>\n<style scoped>\n    .dataframe tbody tr th:only-of-type {\n        vertical-align: middle;\n    }\n\n    .dataframe tbody tr th {\n        vertical-align: top;\n    }\n\n    .dataframe thead th {\n        text-align: right;\n    }\n</style>\n<table border=\"1\" class=\"dataframe\">\n  <thead>\n    <tr style=\"text-align: right;\">\n      <th></th>\n      <th>X</th>\n      <th>sentiment</th>\n      <th>score</th>\n    </tr>\n  </thead>\n  <tbody>\n    <tr>\n      <th>0</th>\n      <td>Google amazon texas ten</td>\n      <td>positive</td>\n      <td>0.645827</td>\n    </tr>\n    <tr>\n      <th>1</th>\n      <td>Apple is looking at buying U.K. startup for $1...</td>\n      <td>positive</td>\n      <td>0.534415</td>\n    </tr>\n    <tr>\n      <th>2</th>\n      <td>Carnegie Mellon University is great</td>\n      <td>positive</td>\n      <td>0.996467</td>\n    </tr>\n    <tr>\n      <th>3</th>\n      <td>NY Giants suck</td>\n      <td>negative</td>\n      <td>0.990939</td>\n    </tr>\n    <tr>\n      <th>4</th>\n      <td>NY Giants are the worst team</td>\n      <td>negative</td>\n      <td>0.991825</td>\n    </tr>\n  </tbody>\n</table>\n</div>"
     },
     "metadata": {},
     "execution_count": 195
    }
   ],
   "source": [
    "text_df['sentiment'] = text_df['X'].apply(label_sentiment)\n",
    "text_df['score'] = text_df['X'].apply(sentiment_score)\n",
    "text_df"
   ]
  },
  {
   "cell_type": "code",
   "execution_count": null,
   "metadata": {},
   "outputs": [],
   "source": []
  },
  {
   "cell_type": "code",
   "execution_count": 196,
   "metadata": {},
   "outputs": [
    {
     "output_type": "execute_result",
     "data": {
      "text/plain": [
       "0     positive\n",
       "1     positive\n",
       "2     positive\n",
       "3     positive\n",
       "4     positive\n",
       "5     positive\n",
       "6     positive\n",
       "7     positive\n",
       "8     positive\n",
       "9     positive\n",
       "10    positive\n",
       "11    positive\n",
       "12    positive\n",
       "13    positive\n",
       "14    negative\n",
       "15    positive\n",
       "16    positive\n",
       "17    positive\n",
       "18    positive\n",
       "19    positive\n",
       "20    positive\n",
       "21    positive\n",
       "22    positive\n",
       "23    positive\n",
       "24    positive\n",
       "Name: comments, dtype: object"
      ]
     },
     "metadata": {},
     "execution_count": 196
    }
   ],
   "source": [
    "reviews_df['comments'].head(250).apply(label_sentiment)"
   ]
  },
  {
   "cell_type": "code",
   "execution_count": null,
   "metadata": {},
   "outputs": [],
   "source": []
  }
 ]
}