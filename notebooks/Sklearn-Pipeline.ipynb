{
 "metadata": {
  "language_info": {
   "codemirror_mode": {
    "name": "ipython",
    "version": 3
   },
   "file_extension": ".py",
   "mimetype": "text/x-python",
   "name": "python",
   "nbconvert_exporter": "python",
   "pygments_lexer": "ipython3",
   "version": "3.7.10-final"
  },
  "orig_nbformat": 2,
  "kernelspec": {
   "name": "python3",
   "display_name": "Python 3.7.10 64-bit ('tf2': conda)",
   "metadata": {
    "interpreter": {
     "hash": "7360b797e7c8a7382d9f9763b181530c2cece6023e2baab31f0c30233d575ae5"
    }
   }
  }
 },
 "nbformat": 4,
 "nbformat_minor": 2,
 "cells": [
  {
   "source": [
    "# How to Transform Data Using Scikit-Learn's Pipeline"
   ],
   "cell_type": "markdown",
   "metadata": {}
  },
  {
   "cell_type": "code",
   "execution_count": 10,
   "metadata": {},
   "outputs": [],
   "source": [
    "# Data Representation\n",
    "import numpy as np\n",
    "import pandas as pd\n",
    "\n",
    "# Processing & Modeling\n",
    "import sklearn\n",
    "from sklearn.compose import ColumnTransformer\n",
    "from sklearn.impute import SimpleImputer\n",
    "from sklearn.linear_model import LinearRegression\n",
    "from sklearn.pipeline import Pipeline\n",
    "from sklearn.preprocessing import OneHotEncoder, StandardScaler\n",
    "\n",
    "random_state = 42"
   ]
  },
  {
   "source": [
    "## Get the data"
   ],
   "cell_type": "markdown",
   "metadata": {}
  },
  {
   "cell_type": "code",
   "execution_count": 6,
   "metadata": {},
   "outputs": [],
   "source": [
    "link = 'https://drive.google.com/file/d/1tT0lNiDHwGQPLa3N0zSdhZcJZaa5aqF3/view?usp=sharing'\n",
    "path = 'https://drive.google.com/uc?export=download&id='+link.split('/')[-2]"
   ]
  },
  {
   "cell_type": "code",
   "execution_count": 104,
   "metadata": {},
   "outputs": [
    {
     "output_type": "execute_result",
     "data": {
      "text/plain": [
       "                                listing_url       scrape_id last_scraped  \\\n",
       "id                                                                         \n",
       "241032  https://www.airbnb.com/rooms/241032  20160104002432   2016-01-04   \n",
       "\n",
       "                                name summary  \\\n",
       "id                                             \n",
       "241032  Stylish Queen Anne Apartment     NaN   \n",
       "\n",
       "                                                    space  \\\n",
       "id                                                          \n",
       "241032  Make your self at home in this charming one-be...   \n",
       "\n",
       "                                              description experiences_offered  \\\n",
       "id                                                                              \n",
       "241032  Make your self at home in this charming one-be...                none   \n",
       "\n",
       "       neighborhood_overview notes  ... review_scores_value requires_license  \\\n",
       "id                                  ...                                        \n",
       "241032                   NaN   NaN  ...                10.0                f   \n",
       "\n",
       "       license jurisdiction_names instant_bookable  cancellation_policy  \\\n",
       "id                                                                        \n",
       "241032     NaN         WASHINGTON                f             moderate   \n",
       "\n",
       "       require_guest_profile_picture require_guest_phone_verification  \\\n",
       "id                                                                      \n",
       "241032                             f                                f   \n",
       "\n",
       "       calculated_host_listings_count reviews_per_month  \n",
       "id                                                       \n",
       "241032                              2              4.07  \n",
       "\n",
       "[1 rows x 91 columns]"
      ],
      "text/html": "<div>\n<style scoped>\n    .dataframe tbody tr th:only-of-type {\n        vertical-align: middle;\n    }\n\n    .dataframe tbody tr th {\n        vertical-align: top;\n    }\n\n    .dataframe thead th {\n        text-align: right;\n    }\n</style>\n<table border=\"1\" class=\"dataframe\">\n  <thead>\n    <tr style=\"text-align: right;\">\n      <th></th>\n      <th>listing_url</th>\n      <th>scrape_id</th>\n      <th>last_scraped</th>\n      <th>name</th>\n      <th>summary</th>\n      <th>space</th>\n      <th>description</th>\n      <th>experiences_offered</th>\n      <th>neighborhood_overview</th>\n      <th>notes</th>\n      <th>...</th>\n      <th>review_scores_value</th>\n      <th>requires_license</th>\n      <th>license</th>\n      <th>jurisdiction_names</th>\n      <th>instant_bookable</th>\n      <th>cancellation_policy</th>\n      <th>require_guest_profile_picture</th>\n      <th>require_guest_phone_verification</th>\n      <th>calculated_host_listings_count</th>\n      <th>reviews_per_month</th>\n    </tr>\n    <tr>\n      <th>id</th>\n      <th></th>\n      <th></th>\n      <th></th>\n      <th></th>\n      <th></th>\n      <th></th>\n      <th></th>\n      <th></th>\n      <th></th>\n      <th></th>\n      <th></th>\n      <th></th>\n      <th></th>\n      <th></th>\n      <th></th>\n      <th></th>\n      <th></th>\n      <th></th>\n      <th></th>\n      <th></th>\n      <th></th>\n    </tr>\n  </thead>\n  <tbody>\n    <tr>\n      <th>241032</th>\n      <td>https://www.airbnb.com/rooms/241032</td>\n      <td>20160104002432</td>\n      <td>2016-01-04</td>\n      <td>Stylish Queen Anne Apartment</td>\n      <td>NaN</td>\n      <td>Make your self at home in this charming one-be...</td>\n      <td>Make your self at home in this charming one-be...</td>\n      <td>none</td>\n      <td>NaN</td>\n      <td>NaN</td>\n      <td>...</td>\n      <td>10.0</td>\n      <td>f</td>\n      <td>NaN</td>\n      <td>WASHINGTON</td>\n      <td>f</td>\n      <td>moderate</td>\n      <td>f</td>\n      <td>f</td>\n      <td>2</td>\n      <td>4.07</td>\n    </tr>\n  </tbody>\n</table>\n<p>1 rows × 91 columns</p>\n</div>"
     },
     "metadata": {},
     "execution_count": 104
    }
   ],
   "source": [
    "listings_df = pd.read_csv(path)\n",
    "listings_df.set_index('id', inplace=True)\n",
    "listings_df.head(1)"
   ]
  },
  {
   "cell_type": "code",
   "execution_count": 105,
   "metadata": {},
   "outputs": [
    {
     "output_type": "execute_result",
     "data": {
      "text/plain": [
       "(3818, 91)"
      ]
     },
     "metadata": {},
     "execution_count": 105
    }
   ],
   "source": [
    "listings_df.shape"
   ]
  },
  {
   "cell_type": "code",
   "execution_count": 106,
   "metadata": {},
   "outputs": [
    {
     "output_type": "execute_result",
     "data": {
      "text/plain": [
       "listing_url                         0.000000\n",
       "scrape_id                           0.000000\n",
       "last_scraped                        0.000000\n",
       "name                                0.000000\n",
       "summary                             0.046359\n",
       "space                               0.149031\n",
       "description                         0.000000\n",
       "experiences_offered                 0.000000\n",
       "neighborhood_overview               0.270299\n",
       "notes                               0.420639\n",
       "transit                             0.244631\n",
       "thumbnail_url                       0.083814\n",
       "medium_url                          0.083814\n",
       "picture_url                         0.000000\n",
       "xl_picture_url                      0.083814\n",
       "host_id                             0.000000\n",
       "host_url                            0.000000\n",
       "host_name                           0.000524\n",
       "host_since                          0.000524\n",
       "host_location                       0.002095\n",
       "host_about                          0.224987\n",
       "host_response_time                  0.136983\n",
       "host_response_rate                  0.136983\n",
       "host_acceptance_rate                0.202462\n",
       "host_is_superhost                   0.000524\n",
       "host_thumbnail_url                  0.000524\n",
       "host_picture_url                    0.000524\n",
       "host_neighbourhood                  0.078575\n",
       "host_listings_count                 0.000524\n",
       "host_total_listings_count           0.000524\n",
       "host_verifications                  0.000000\n",
       "host_has_profile_pic                0.000524\n",
       "host_identity_verified              0.000524\n",
       "street                              0.000000\n",
       "neighbourhood                       0.108958\n",
       "neighbourhood_cleansed              0.000000\n",
       "neighbourhood_group_cleansed        0.000000\n",
       "city                                0.000000\n",
       "state                               0.000000\n",
       "zipcode                             0.001833\n",
       "market                              0.000000\n",
       "smart_location                      0.000000\n",
       "country_code                        0.000000\n",
       "country                             0.000000\n",
       "latitude                            0.000000\n",
       "longitude                           0.000000\n",
       "is_location_exact                   0.000000\n",
       "property_type                       0.000262\n",
       "room_type                           0.000000\n",
       "accommodates                        0.000000\n",
       "bathrooms                           0.004191\n",
       "bedrooms                            0.001572\n",
       "beds                                0.000262\n",
       "bed_type                            0.000000\n",
       "amenities                           0.000000\n",
       "square_feet                         0.974594\n",
       "price                               0.000000\n",
       "weekly_price                        0.473808\n",
       "monthly_price                       0.602672\n",
       "security_deposit                    0.511262\n",
       "cleaning_fee                        0.269775\n",
       "guests_included                     0.000000\n",
       "extra_people                        0.000000\n",
       "minimum_nights                      0.000000\n",
       "maximum_nights                      0.000000\n",
       "calendar_updated                    0.000000\n",
       "has_availability                    0.000000\n",
       "availability_30                     0.000000\n",
       "availability_60                     0.000000\n",
       "availability_90                     0.000000\n",
       "availability_365                    0.000000\n",
       "calendar_last_scraped               0.000000\n",
       "number_of_reviews                   0.000000\n",
       "first_review                        0.164222\n",
       "last_review                         0.164222\n",
       "review_scores_rating                0.169460\n",
       "review_scores_accuracy              0.172342\n",
       "review_scores_cleanliness           0.171032\n",
       "review_scores_checkin               0.172342\n",
       "review_scores_communication         0.170508\n",
       "review_scores_location              0.171556\n",
       "review_scores_value                 0.171818\n",
       "requires_license                    0.000000\n",
       "license                             1.000000\n",
       "jurisdiction_names                  0.000000\n",
       "instant_bookable                    0.000000\n",
       "cancellation_policy                 0.000000\n",
       "require_guest_profile_picture       0.000000\n",
       "require_guest_phone_verification    0.000000\n",
       "calculated_host_listings_count      0.000000\n",
       "reviews_per_month                   0.164222\n",
       "dtype: float64"
      ]
     },
     "metadata": {},
     "execution_count": 106
    }
   ],
   "source": [
    "pd.set_option('display.max_rows', 100)\n",
    "# % of NaN values\n",
    "missing_series = pd.Series(1 - listings_df.count() / len(listings_df))\n",
    "missing_series"
   ]
  },
  {
   "cell_type": "code",
   "execution_count": 107,
   "metadata": {},
   "outputs": [
    {
     "output_type": "execute_result",
     "data": {
      "text/plain": [
       "square_feet      0.974594\n",
       "monthly_price    0.602672\n",
       "license          1.000000\n",
       "dtype: float64"
      ]
     },
     "metadata": {},
     "execution_count": 107
    }
   ],
   "source": [
    "missing_series[missing_series.gt(.60)] # get the rows that contain a value greater than .60"
   ]
  },
  {
   "source": [
    "> Because the the features square_feeet, monthly_price, and license have 60% or greater missing data, we are going to drop the features for this analysis"
   ],
   "cell_type": "markdown",
   "metadata": {}
  },
  {
   "cell_type": "code",
   "execution_count": 108,
   "metadata": {},
   "outputs": [
    {
     "output_type": "execute_result",
     "data": {
      "text/plain": [
       "(3818, 88)"
      ]
     },
     "metadata": {},
     "execution_count": 108
    }
   ],
   "source": [
    "listings_df = listings_df.drop(columns=['square_feet', 'monthly_price', 'license'])\n",
    "listings_df.shape"
   ]
  },
  {
   "cell_type": "code",
   "execution_count": 109,
   "metadata": {},
   "outputs": [],
   "source": [
    "from sklearn.model_selection import train_test_split"
   ]
  },
  {
   "cell_type": "code",
   "execution_count": 110,
   "metadata": {},
   "outputs": [],
   "source": [
    "listings_df['price_float'] = listings_df['price'].replace('[\\$\\,]',\"\",regex=True).astype(float)"
   ]
  },
  {
   "cell_type": "code",
   "execution_count": 111,
   "metadata": {},
   "outputs": [],
   "source": [
    "y =  listings_df.pop('price_float')\n",
    "listings_df.pop('price')\n",
    "X = listings_df"
   ]
  },
  {
   "cell_type": "code",
   "execution_count": 112,
   "metadata": {},
   "outputs": [],
   "source": [
    "X_train, X_test, y_train, y_test = train_test_split(X, y, test_size=0.2, random_state=random_state)"
   ]
  },
  {
   "cell_type": "code",
   "execution_count": 113,
   "metadata": {},
   "outputs": [
    {
     "output_type": "execute_result",
     "data": {
      "text/plain": [
       "scrape_id                           int64\n",
       "host_id                             int64\n",
       "host_listings_count               float64\n",
       "host_total_listings_count         float64\n",
       "latitude                          float64\n",
       "longitude                         float64\n",
       "accommodates                        int64\n",
       "bathrooms                         float64\n",
       "bedrooms                          float64\n",
       "beds                              float64\n",
       "guests_included                     int64\n",
       "minimum_nights                      int64\n",
       "maximum_nights                      int64\n",
       "availability_30                     int64\n",
       "availability_60                     int64\n",
       "availability_90                     int64\n",
       "availability_365                    int64\n",
       "number_of_reviews                   int64\n",
       "review_scores_rating              float64\n",
       "review_scores_accuracy            float64\n",
       "review_scores_cleanliness         float64\n",
       "review_scores_checkin             float64\n",
       "review_scores_communication       float64\n",
       "review_scores_location            float64\n",
       "review_scores_value               float64\n",
       "calculated_host_listings_count      int64\n",
       "reviews_per_month                 float64\n",
       "dtype: object"
      ]
     },
     "metadata": {},
     "execution_count": 113
    }
   ],
   "source": [
    "X_train_set_numerical = X_train.select_dtypes(exclude='object')\n",
    "X_train_set_numerical.dtypes"
   ]
  },
  {
   "cell_type": "code",
   "execution_count": 129,
   "metadata": {},
   "outputs": [
    {
     "output_type": "execute_result",
     "data": {
      "text/plain": [
       "         host_listings_count  host_total_listings_count  \\\n",
       "id                                                        \n",
       "6717555                  1.0                        1.0   \n",
       "\n",
       "         review_scores_cleanliness  \n",
       "id                                  \n",
       "6717555                        6.0  "
      ],
      "text/html": "<div>\n<style scoped>\n    .dataframe tbody tr th:only-of-type {\n        vertical-align: middle;\n    }\n\n    .dataframe tbody tr th {\n        vertical-align: top;\n    }\n\n    .dataframe thead th {\n        text-align: right;\n    }\n</style>\n<table border=\"1\" class=\"dataframe\">\n  <thead>\n    <tr style=\"text-align: right;\">\n      <th></th>\n      <th>host_listings_count</th>\n      <th>host_total_listings_count</th>\n      <th>review_scores_cleanliness</th>\n    </tr>\n    <tr>\n      <th>id</th>\n      <th></th>\n      <th></th>\n      <th></th>\n    </tr>\n  </thead>\n  <tbody>\n    <tr>\n      <th>6717555</th>\n      <td>1.0</td>\n      <td>1.0</td>\n      <td>6.0</td>\n    </tr>\n  </tbody>\n</table>\n</div>"
     },
     "metadata": {},
     "execution_count": 129
    }
   ],
   "source": [
    "X_train_num_subset = X_train_set_numerical[['host_listings_count', 'host_total_listings_count', 'review_scores_cleanliness']]\n",
    "X_train_num_subset.head(1)"
   ]
  },
  {
   "cell_type": "code",
   "execution_count": 130,
   "metadata": {},
   "outputs": [
    {
     "output_type": "execute_result",
     "data": {
      "text/plain": [
       "(3054, 3)"
      ]
     },
     "metadata": {},
     "execution_count": 130
    }
   ],
   "source": [
    "X_train_num_subset.shape"
   ]
  },
  {
   "cell_type": "code",
   "execution_count": 132,
   "metadata": {},
   "outputs": [],
   "source": [
    "num_pipeline = Pipeline([\n",
    "        ('imputer', SimpleImputer(strategy=\"median\")),\n",
    "        ('std_scaler', StandardScaler()),\n",
    "    ])\n",
    "\n",
    "X_train_num_subset_transformed = num_pipeline.fit_transform(X_train_num_subset)"
   ]
  },
  {
   "cell_type": "code",
   "execution_count": 133,
   "metadata": {},
   "outputs": [
    {
     "output_type": "execute_result",
     "data": {
      "text/plain": [
       "array([[-0.21361479, -0.21361479, -4.69696311],\n",
       "       [-0.21361479, -0.21361479,  0.49515537],\n",
       "       [-0.21361479, -0.21361479,  0.49515537],\n",
       "       ...,\n",
       "       [-0.14879814, -0.14879814,  0.49515537],\n",
       "       [-0.21361479, -0.21361479, -4.69696311],\n",
       "       [-0.18120647, -0.18120647, -3.39893349]])"
      ]
     },
     "metadata": {},
     "execution_count": 133
    }
   ],
   "source": [
    "X_train_num_subset_transformed"
   ]
  },
  {
   "cell_type": "code",
   "execution_count": 135,
   "metadata": {},
   "outputs": [
    {
     "output_type": "execute_result",
     "data": {
      "text/plain": [
       "   host_listings_count  host_total_listings_count  review_scores_cleanliness\n",
       "0            -0.213615                  -0.213615                  -4.696963"
      ],
      "text/html": "<div>\n<style scoped>\n    .dataframe tbody tr th:only-of-type {\n        vertical-align: middle;\n    }\n\n    .dataframe tbody tr th {\n        vertical-align: top;\n    }\n\n    .dataframe thead th {\n        text-align: right;\n    }\n</style>\n<table border=\"1\" class=\"dataframe\">\n  <thead>\n    <tr style=\"text-align: right;\">\n      <th></th>\n      <th>host_listings_count</th>\n      <th>host_total_listings_count</th>\n      <th>review_scores_cleanliness</th>\n    </tr>\n  </thead>\n  <tbody>\n    <tr>\n      <th>0</th>\n      <td>-0.213615</td>\n      <td>-0.213615</td>\n      <td>-4.696963</td>\n    </tr>\n  </tbody>\n</table>\n</div>"
     },
     "metadata": {},
     "execution_count": 135
    }
   ],
   "source": [
    "X_train_num_subset_t_df = pd.DataFrame(X_train_num_subset_transformed, columns=X_train_num_subset.columns)\n",
    "X_train_num_subset_t_df.head(1)"
   ]
  },
  {
   "cell_type": "code",
   "execution_count": 136,
   "metadata": {},
   "outputs": [
    {
     "output_type": "execute_result",
     "data": {
      "text/plain": [
       "(3054, 3)"
      ]
     },
     "metadata": {},
     "execution_count": 136
    }
   ],
   "source": [
    "train_set_num_transformed.shape"
   ]
  },
  {
   "source": [
    "## Review Categorical Data"
   ],
   "cell_type": "markdown",
   "metadata": {}
  },
  {
   "cell_type": "code",
   "execution_count": 149,
   "metadata": {},
   "outputs": [
    {
     "output_type": "execute_result",
     "data": {
      "text/plain": [
       "['listing_url',\n",
       " 'last_scraped',\n",
       " 'name',\n",
       " 'summary',\n",
       " 'space',\n",
       " 'description',\n",
       " 'experiences_offered',\n",
       " 'neighborhood_overview',\n",
       " 'notes',\n",
       " 'transit',\n",
       " 'thumbnail_url',\n",
       " 'medium_url',\n",
       " 'picture_url',\n",
       " 'xl_picture_url',\n",
       " 'host_url',\n",
       " 'host_name',\n",
       " 'host_since',\n",
       " 'host_location',\n",
       " 'host_about',\n",
       " 'host_response_time',\n",
       " 'host_response_rate',\n",
       " 'host_acceptance_rate',\n",
       " 'host_is_superhost',\n",
       " 'host_thumbnail_url',\n",
       " 'host_picture_url',\n",
       " 'host_neighbourhood',\n",
       " 'host_verifications',\n",
       " 'host_has_profile_pic',\n",
       " 'host_identity_verified',\n",
       " 'street',\n",
       " 'neighbourhood',\n",
       " 'neighbourhood_cleansed',\n",
       " 'neighbourhood_group_cleansed',\n",
       " 'city',\n",
       " 'state',\n",
       " 'zipcode',\n",
       " 'market',\n",
       " 'smart_location',\n",
       " 'country_code',\n",
       " 'country',\n",
       " 'is_location_exact',\n",
       " 'property_type',\n",
       " 'room_type',\n",
       " 'bed_type',\n",
       " 'amenities',\n",
       " 'weekly_price',\n",
       " 'security_deposit',\n",
       " 'cleaning_fee',\n",
       " 'extra_people',\n",
       " 'calendar_updated',\n",
       " 'has_availability',\n",
       " 'calendar_last_scraped',\n",
       " 'first_review',\n",
       " 'last_review',\n",
       " 'requires_license',\n",
       " 'jurisdiction_names',\n",
       " 'instant_bookable',\n",
       " 'cancellation_policy',\n",
       " 'require_guest_profile_picture',\n",
       " 'require_guest_phone_verification']"
      ]
     },
     "metadata": {},
     "execution_count": 149
    }
   ],
   "source": [
    "X_train.select_dtypes(include='object').columns.tolist()"
   ]
  },
  {
   "cell_type": "code",
   "execution_count": 151,
   "metadata": {},
   "outputs": [
    {
     "output_type": "execute_result",
     "data": {
      "text/plain": [
       "id                                                                          6717555\n",
       "listing_url                                    https://www.airbnb.com/rooms/6717555\n",
       "last_scraped                                                             2016-01-04\n",
       "name                                              1 Bedroom by UW for Summer Rental\n",
       "summary                           Private, furnished room in a 3-bdr apartment i...\n",
       "space                                                                           NaN\n",
       "description                       Private, furnished room in a 3-bdr apartment i...\n",
       "experiences_offered                                                            none\n",
       "neighborhood_overview                                                           NaN\n",
       "notes                                                                           NaN\n",
       "transit                                                                         NaN\n",
       "thumbnail_url                     https://a1.muscache.com/ac/pictures/84795771/5...\n",
       "medium_url                        https://a1.muscache.com/im/pictures/84795771/5...\n",
       "picture_url                       https://a1.muscache.com/ac/pictures/84795771/5...\n",
       "xl_picture_url                    https://a1.muscache.com/ac/pictures/84795771/5...\n",
       "host_url                                 https://www.airbnb.com/users/show/34472831\n",
       "host_name                                                                     Clara\n",
       "host_since                                                               2015-05-28\n",
       "host_location                                                                    US\n",
       "host_about                                                                      NaN\n",
       "host_response_time                                                              NaN\n",
       "host_response_rate                                                              NaN\n",
       "host_acceptance_rate                                                            NaN\n",
       "host_is_superhost                                                                 f\n",
       "host_thumbnail_url                https://a0.muscache.com/ac/users/34472831/prof...\n",
       "host_picture_url                  https://a0.muscache.com/ac/users/34472831/prof...\n",
       "host_neighbourhood                                              University District\n",
       "host_verifications                                    ['email', 'phone', 'reviews']\n",
       "host_has_profile_pic                                                              t\n",
       "host_identity_verified                                                            f\n",
       "street                            Apex Apartments, 4233 7th Avenue Northeast, Se...\n",
       "neighbourhood                                                   University District\n",
       "neighbourhood_cleansed                                          University District\n",
       "neighbourhood_group_cleansed                                    University District\n",
       "city                                                                        Seattle\n",
       "state                                                                            WA\n",
       "zipcode                                                                       98105\n",
       "market                                                                      Seattle\n",
       "smart_location                                                          Seattle, WA\n",
       "country_code                                                                     US\n",
       "country                                                               United States\n",
       "is_location_exact                                                                 t\n",
       "property_type                                                             Apartment\n",
       "room_type                                                              Private room\n",
       "bed_type                                                                   Real Bed\n",
       "amenities                         {Internet,\"Wireless Internet\",Kitchen,\"Elevato...\n",
       "weekly_price                                                                $250.00\n",
       "security_deposit                                                                NaN\n",
       "cleaning_fee                                                                    NaN\n",
       "extra_people                                                                  $0.00\n",
       "calendar_updated                                                       4 months ago\n",
       "has_availability                                                                  t\n",
       "calendar_last_scraped                                                    2016-01-04\n",
       "first_review                                                             2015-08-30\n",
       "last_review                                                              2015-08-30\n",
       "requires_license                                                                  f\n",
       "jurisdiction_names                                                       WASHINGTON\n",
       "instant_bookable                                                                  f\n",
       "cancellation_policy                                                          strict\n",
       "require_guest_profile_picture                                                     f\n",
       "require_guest_phone_verification                                                  f"
      ],
      "text/html": "<div>\n<style scoped>\n    .dataframe tbody tr th:only-of-type {\n        vertical-align: middle;\n    }\n\n    .dataframe tbody tr th {\n        vertical-align: top;\n    }\n\n    .dataframe thead th {\n        text-align: right;\n    }\n</style>\n<table border=\"1\" class=\"dataframe\">\n  <thead>\n    <tr style=\"text-align: right;\">\n      <th>id</th>\n      <th>6717555</th>\n    </tr>\n  </thead>\n  <tbody>\n    <tr>\n      <th>listing_url</th>\n      <td>https://www.airbnb.com/rooms/6717555</td>\n    </tr>\n    <tr>\n      <th>last_scraped</th>\n      <td>2016-01-04</td>\n    </tr>\n    <tr>\n      <th>name</th>\n      <td>1 Bedroom by UW for Summer Rental</td>\n    </tr>\n    <tr>\n      <th>summary</th>\n      <td>Private, furnished room in a 3-bdr apartment i...</td>\n    </tr>\n    <tr>\n      <th>space</th>\n      <td>NaN</td>\n    </tr>\n    <tr>\n      <th>description</th>\n      <td>Private, furnished room in a 3-bdr apartment i...</td>\n    </tr>\n    <tr>\n      <th>experiences_offered</th>\n      <td>none</td>\n    </tr>\n    <tr>\n      <th>neighborhood_overview</th>\n      <td>NaN</td>\n    </tr>\n    <tr>\n      <th>notes</th>\n      <td>NaN</td>\n    </tr>\n    <tr>\n      <th>transit</th>\n      <td>NaN</td>\n    </tr>\n    <tr>\n      <th>thumbnail_url</th>\n      <td>https://a1.muscache.com/ac/pictures/84795771/5...</td>\n    </tr>\n    <tr>\n      <th>medium_url</th>\n      <td>https://a1.muscache.com/im/pictures/84795771/5...</td>\n    </tr>\n    <tr>\n      <th>picture_url</th>\n      <td>https://a1.muscache.com/ac/pictures/84795771/5...</td>\n    </tr>\n    <tr>\n      <th>xl_picture_url</th>\n      <td>https://a1.muscache.com/ac/pictures/84795771/5...</td>\n    </tr>\n    <tr>\n      <th>host_url</th>\n      <td>https://www.airbnb.com/users/show/34472831</td>\n    </tr>\n    <tr>\n      <th>host_name</th>\n      <td>Clara</td>\n    </tr>\n    <tr>\n      <th>host_since</th>\n      <td>2015-05-28</td>\n    </tr>\n    <tr>\n      <th>host_location</th>\n      <td>US</td>\n    </tr>\n    <tr>\n      <th>host_about</th>\n      <td>NaN</td>\n    </tr>\n    <tr>\n      <th>host_response_time</th>\n      <td>NaN</td>\n    </tr>\n    <tr>\n      <th>host_response_rate</th>\n      <td>NaN</td>\n    </tr>\n    <tr>\n      <th>host_acceptance_rate</th>\n      <td>NaN</td>\n    </tr>\n    <tr>\n      <th>host_is_superhost</th>\n      <td>f</td>\n    </tr>\n    <tr>\n      <th>host_thumbnail_url</th>\n      <td>https://a0.muscache.com/ac/users/34472831/prof...</td>\n    </tr>\n    <tr>\n      <th>host_picture_url</th>\n      <td>https://a0.muscache.com/ac/users/34472831/prof...</td>\n    </tr>\n    <tr>\n      <th>host_neighbourhood</th>\n      <td>University District</td>\n    </tr>\n    <tr>\n      <th>host_verifications</th>\n      <td>['email', 'phone', 'reviews']</td>\n    </tr>\n    <tr>\n      <th>host_has_profile_pic</th>\n      <td>t</td>\n    </tr>\n    <tr>\n      <th>host_identity_verified</th>\n      <td>f</td>\n    </tr>\n    <tr>\n      <th>street</th>\n      <td>Apex Apartments, 4233 7th Avenue Northeast, Se...</td>\n    </tr>\n    <tr>\n      <th>neighbourhood</th>\n      <td>University District</td>\n    </tr>\n    <tr>\n      <th>neighbourhood_cleansed</th>\n      <td>University District</td>\n    </tr>\n    <tr>\n      <th>neighbourhood_group_cleansed</th>\n      <td>University District</td>\n    </tr>\n    <tr>\n      <th>city</th>\n      <td>Seattle</td>\n    </tr>\n    <tr>\n      <th>state</th>\n      <td>WA</td>\n    </tr>\n    <tr>\n      <th>zipcode</th>\n      <td>98105</td>\n    </tr>\n    <tr>\n      <th>market</th>\n      <td>Seattle</td>\n    </tr>\n    <tr>\n      <th>smart_location</th>\n      <td>Seattle, WA</td>\n    </tr>\n    <tr>\n      <th>country_code</th>\n      <td>US</td>\n    </tr>\n    <tr>\n      <th>country</th>\n      <td>United States</td>\n    </tr>\n    <tr>\n      <th>is_location_exact</th>\n      <td>t</td>\n    </tr>\n    <tr>\n      <th>property_type</th>\n      <td>Apartment</td>\n    </tr>\n    <tr>\n      <th>room_type</th>\n      <td>Private room</td>\n    </tr>\n    <tr>\n      <th>bed_type</th>\n      <td>Real Bed</td>\n    </tr>\n    <tr>\n      <th>amenities</th>\n      <td>{Internet,\"Wireless Internet\",Kitchen,\"Elevato...</td>\n    </tr>\n    <tr>\n      <th>weekly_price</th>\n      <td>$250.00</td>\n    </tr>\n    <tr>\n      <th>security_deposit</th>\n      <td>NaN</td>\n    </tr>\n    <tr>\n      <th>cleaning_fee</th>\n      <td>NaN</td>\n    </tr>\n    <tr>\n      <th>extra_people</th>\n      <td>$0.00</td>\n    </tr>\n    <tr>\n      <th>calendar_updated</th>\n      <td>4 months ago</td>\n    </tr>\n    <tr>\n      <th>has_availability</th>\n      <td>t</td>\n    </tr>\n    <tr>\n      <th>calendar_last_scraped</th>\n      <td>2016-01-04</td>\n    </tr>\n    <tr>\n      <th>first_review</th>\n      <td>2015-08-30</td>\n    </tr>\n    <tr>\n      <th>last_review</th>\n      <td>2015-08-30</td>\n    </tr>\n    <tr>\n      <th>requires_license</th>\n      <td>f</td>\n    </tr>\n    <tr>\n      <th>jurisdiction_names</th>\n      <td>WASHINGTON</td>\n    </tr>\n    <tr>\n      <th>instant_bookable</th>\n      <td>f</td>\n    </tr>\n    <tr>\n      <th>cancellation_policy</th>\n      <td>strict</td>\n    </tr>\n    <tr>\n      <th>require_guest_profile_picture</th>\n      <td>f</td>\n    </tr>\n    <tr>\n      <th>require_guest_phone_verification</th>\n      <td>f</td>\n    </tr>\n  </tbody>\n</table>\n</div>"
     },
     "metadata": {},
     "execution_count": 151
    }
   ],
   "source": [
    "X_train.select_dtypes(include='object').head(1).T"
   ]
  },
  {
   "source": [
    "> Review categorical data to identify features that may not make sense for prediction... for instance URLs are not necessarily useful for prediction in this context"
   ],
   "cell_type": "markdown",
   "metadata": {}
  },
  {
   "cell_type": "code",
   "execution_count": 152,
   "metadata": {},
   "outputs": [],
   "source": [
    "boolean_columns = ['host_is_superhost', \n",
    "                    'host_has_profile_pic', \n",
    "                    'host_identity_verified', \n",
    "                    'is_location_exact',\n",
    "                    'has_availability',\n",
    "                    'requires_license',\n",
    "                    'instant_bookable',\n",
    "                    'require_guest_profile_picture',\n",
    "                    'require_guest_phone_verification']"
   ]
  },
  {
   "source": [
    "## Compose Multi-part Pipelines "
   ],
   "cell_type": "markdown",
   "metadata": {}
  },
  {
   "cell_type": "code",
   "execution_count": 41,
   "metadata": {},
   "outputs": [],
   "source": [
    "num_pipeline = Pipeline([\n",
    "        ('imputer', SimpleImputer(strategy=\"median\")),\n",
    "        ('std_scaler', StandardScaler()),\n",
    "    ])"
   ]
  },
  {
   "cell_type": "code",
   "execution_count": 141,
   "metadata": {},
   "outputs": [],
   "source": [
    "num_attribs = X_train.select_dtypes(exclude='object').columns.tolist()\n",
    "cat_attribs = X_train.select_dtypes(include='object').columns.tolist()"
   ]
  },
  {
   "cell_type": "code",
   "execution_count": 143,
   "metadata": {},
   "outputs": [],
   "source": [
    "full_pipeline = ColumnTransformer([\n",
    "        (\"num\", num_pipeline, num_attribs),\n",
    "        (\"cat\", OneHotEncoder(), cat_attribs),\n",
    "    ])\n",
    "\n",
    "train_set_prepared = full_pipeline.fit_transform(X_train)"
   ]
  },
  {
   "cell_type": "code",
   "execution_count": 144,
   "metadata": {},
   "outputs": [
    {
     "output_type": "execute_result",
     "data": {
      "text/plain": [
       "(3054, 49057)"
      ]
     },
     "metadata": {},
     "execution_count": 144
    }
   ],
   "source": [
    "train_set_prepared.shape"
   ]
  },
  {
   "source": [
    "## Combine Preprocessing & Prediction"
   ],
   "cell_type": "markdown",
   "metadata": {}
  },
  {
   "cell_type": "code",
   "execution_count": 147,
   "metadata": {},
   "outputs": [
    {
     "output_type": "error",
     "ename": "ValueError",
     "evalue": "Found unknown categories ['https://www.airbnb.com/rooms/6118359', 'https://www.airbnb.com/rooms/3726391', 'https://www.airbnb.com/rooms/3604931', 'https://www.airbnb.com/rooms/888967', 'https://www.airbnb.com/rooms/580182', 'https://www.airbnb.com/rooms/6214998', 'https://www.airbnb.com/rooms/4041868', 'https://www.airbnb.com/rooms/72743', 'https://www.airbnb.com/rooms/6360895', 'https://www.airbnb.com/rooms/7762347', 'https://www.airbnb.com/rooms/7013085', 'https://www.airbnb.com/rooms/808811', 'https://www.airbnb.com/rooms/9410043', 'https://www.airbnb.com/rooms/6748502', 'https://www.airbnb.com/rooms/6328150', 'https://www.airbnb.com/rooms/4520099', 'https://www.airbnb.com/rooms/9492036', 'https://www.airbnb.com/rooms/7075357', 'https://www.airbnb.com/rooms/108468', 'https://www.airbnb.com/rooms/7802266', 'https://www.airbnb.com/rooms/6765045', 'https://www.airbnb.com/rooms/8389809', 'https://www.airbnb.com/rooms/5978498', 'https://www.airbnb.com/rooms/8193332', 'https://www.airbnb.com/rooms/1970725', 'https://www.airbnb.com/rooms/6436772', 'https://www.airbnb.com/rooms/9138600', 'https://www.airbnb.com/rooms/7872980', 'https://www.airbnb.com/rooms/9238818', 'https://www.airbnb.com/rooms/4664312', 'https://www.airbnb.com/rooms/4783585', 'https://www.airbnb.com/rooms/3251016', 'https://www.airbnb.com/rooms/7418814', 'https://www.airbnb.com/rooms/5021081', 'https://www.airbnb.com/rooms/8505940', 'https://www.airbnb.com/rooms/1090307', 'https://www.airbnb.com/rooms/7241905', 'https://www.airbnb.com/rooms/7870538', 'https://www.airbnb.com/rooms/9768655', 'https://www.airbnb.com/rooms/8907548', 'https://www.airbnb.com/rooms/10077121', 'https://www.airbnb.com/rooms/9597947', 'https://www.airbnb.com/rooms/1349175', 'https://www.airbnb.com/rooms/4546924', 'https://www.airbnb.com/rooms/3584790', 'https://www.airbnb.com/rooms/2898401', 'https://www.airbnb.com/rooms/6586979', 'https://www.airbnb.com/rooms/6915439', 'https://www.airbnb.com/rooms/7202016', 'https://www.airbnb.com/rooms/241032', 'https://www.airbnb.com/rooms/762029', 'https://www.airbnb.com/rooms/491958', 'https://www.airbnb.com/rooms/6364753', 'https://www.airbnb.com/rooms/7724630', 'https://www.airbnb.com/rooms/5078876', 'https://www.airbnb.com/rooms/7698916', 'https://www.airbnb.com/rooms/2056276', 'https://www.airbnb.com/rooms/3413183', 'https://www.airbnb.com/rooms/3926008', 'https://www.airbnb.com/rooms/843812', 'https://www.airbnb.com/rooms/6652199', 'https://www.airbnb.com/rooms/7066118', 'https://www.airbnb.com/rooms/9389755', 'https://www.airbnb.com/rooms/9938792', 'https://www.airbnb.com/rooms/4023177', 'https://www.airbnb.com/rooms/4122325', 'https://www.airbnb.com/rooms/8606766', 'https://www.airbnb.com/rooms/4137114', 'https://www.airbnb.com/rooms/7350870', 'https://www.airbnb.com/rooms/7420762', 'https://www.airbnb.com/rooms/9415562', 'https://www.airbnb.com/rooms/7965184', 'https://www.airbnb.com/rooms/4184211', 'https://www.airbnb.com/rooms/3657819', 'https://www.airbnb.com/rooms/7800143', 'https://www.airbnb.com/rooms/7620570', 'https://www.airbnb.com/rooms/9137398', 'https://www.airbnb.com/rooms/1818754', 'https://www.airbnb.com/rooms/4614955', 'https://www.airbnb.com/rooms/8017832', 'https://www.airbnb.com/rooms/8652185', 'https://www.airbnb.com/rooms/6118198', 'https://www.airbnb.com/rooms/2112625', 'https://www.airbnb.com/rooms/8703208', 'https://www.airbnb.com/rooms/7821351', 'https://www.airbnb.com/rooms/3308825', 'https://www.airbnb.com/rooms/7454026', 'https://www.airbnb.com/rooms/5052459', 'https://www.airbnb.com/rooms/7714294', 'https://www.airbnb.com/rooms/6245498', 'https://www.airbnb.com/rooms/6902752', 'https://www.airbnb.com/rooms/353039', 'https://www.airbnb.com/rooms/3868138', 'https://www.airbnb.com/rooms/10211716', 'https://www.airbnb.com/rooms/8820414', 'https://www.airbnb.com/rooms/3258386', 'https://www.airbnb.com/rooms/10020221', 'https://www.airbnb.com/rooms/9596', 'https://www.airbnb.com/rooms/8310576', 'https://www.airbnb.com/rooms/7875887', 'https://www.airbnb.com/rooms/8474253', 'https://www.airbnb.com/rooms/8054518', 'https://www.airbnb.com/rooms/7529124', 'https://www.airbnb.com/rooms/6119785', 'https://www.airbnb.com/rooms/2995996', 'https://www.airbnb.com/rooms/1147349', 'https://www.airbnb.com/rooms/4681687', 'https://www.airbnb.com/rooms/6837751', 'https://www.airbnb.com/rooms/9922140', 'https://www.airbnb.com/rooms/6782993', 'https://www.airbnb.com/rooms/7662775', 'https://www.airbnb.com/rooms/7938153', 'https://www.airbnb.com/rooms/3139972', 'https://www.airbnb.com/rooms/2970666', 'https://www.airbnb.com/rooms/6079131', 'https://www.airbnb.com/rooms/9319891', 'https://www.airbnb.com/rooms/6120046', 'https://www.airbnb.com/rooms/3404557', 'https://www.airbnb.com/rooms/240920', 'https://www.airbnb.com/rooms/9695233', 'https://www.airbnb.com/rooms/8053128', 'https://www.airbnb.com/rooms/7007598', 'https://www.airbnb.com/rooms/4401544', 'https://www.airbnb.com/rooms/5020861', 'https://www.airbnb.com/rooms/4892529', 'https://www.airbnb.com/rooms/1148517', 'https://www.airbnb.com/rooms/9095668', 'https://www.airbnb.com/rooms/6569950', 'https://www.airbnb.com/rooms/7071331', 'https://www.airbnb.com/rooms/7809718', 'https://www.airbnb.com/rooms/6087451', 'https://www.airbnb.com/rooms/936378', 'https://www.airbnb.com/rooms/6156470', 'https://www.airbnb.com/rooms/1521633', 'https://www.airbnb.com/rooms/6823597', 'https://www.airbnb.com/rooms/2037250', 'https://www.airbnb.com/rooms/9012948', 'https://www.airbnb.com/rooms/3487824', 'https://www.airbnb.com/rooms/9545281', 'https://www.airbnb.com/rooms/10022421', 'https://www.airbnb.com/rooms/5328449', 'https://www.airbnb.com/rooms/7369', 'https://www.airbnb.com/rooms/8427254', 'https://www.airbnb.com/rooms/10126050', 'https://www.airbnb.com/rooms/4933447', 'https://www.airbnb.com/rooms/5683765', 'https://www.airbnb.com/rooms/5336585', 'https://www.airbnb.com/rooms/7500728', 'https://www.airbnb.com/rooms/8409962', 'https://www.airbnb.com/rooms/7073650', 'https://www.airbnb.com/rooms/74328', 'https://www.airbnb.com/rooms/1407502', 'https://www.airbnb.com/rooms/931758', 'https://www.airbnb.com/rooms/1386306', 'https://www.airbnb.com/rooms/7651653', 'https://www.airbnb.com/rooms/458191', 'https://www.airbnb.com/rooms/9331449', 'https://www.airbnb.com/rooms/3208330', 'https://www.airbnb.com/rooms/8612922', 'https://www.airbnb.com/rooms/706385', 'https://www.airbnb.com/rooms/6591894', 'https://www.airbnb.com/rooms/656909', 'https://www.airbnb.com/rooms/8443258', 'https://www.airbnb.com/rooms/8783900', 'https://www.airbnb.com/rooms/7984550', 'https://www.airbnb.com/rooms/2520890', 'https://www.airbnb.com/rooms/9352620', 'https://www.airbnb.com/rooms/224763', 'https://www.airbnb.com/rooms/9545766', 'https://www.airbnb.com/rooms/7360078', 'https://www.airbnb.com/rooms/1159111', 'https://www.airbnb.com/rooms/8632651', 'https://www.airbnb.com/rooms/9513636', 'https://www.airbnb.com/rooms/5487934', 'https://www.airbnb.com/rooms/1599856', 'https://www.airbnb.com/rooms/9024838', 'https://www.airbnb.com/rooms/19611', 'https://www.airbnb.com/rooms/4566393', 'https://www.airbnb.com/rooms/9727246', 'https://www.airbnb.com/rooms/9651755', 'https://www.airbnb.com/rooms/4809486', 'https://www.airbnb.com/rooms/3040278', 'https://www.airbnb.com/rooms/2467550', 'https://www.airbnb.com/rooms/8566501', 'https://www.airbnb.com/rooms/3143227', 'https://www.airbnb.com/rooms/4735761', 'https://www.airbnb.com/rooms/8474294', 'https://www.airbnb.com/rooms/5029665', 'https://www.airbnb.com/rooms/8350401', 'https://www.airbnb.com/rooms/1961950', 'https://www.airbnb.com/rooms/6993978', 'https://www.airbnb.com/rooms/2610187', 'https://www.airbnb.com/rooms/4645208', 'https://www.airbnb.com/rooms/5991734', 'https://www.airbnb.com/rooms/8236094', 'https://www.airbnb.com/rooms/3870937', 'https://www.airbnb.com/rooms/9492873', 'https://www.airbnb.com/rooms/9835920', 'https://www.airbnb.com/rooms/755613', 'https://www.airbnb.com/rooms/5499882', 'https://www.airbnb.com/rooms/5578943', 'https://www.airbnb.com/rooms/3898413', 'https://www.airbnb.com/rooms/9925458', 'https://www.airbnb.com/rooms/4311244', 'https://www.airbnb.com/rooms/10274175', 'https://www.airbnb.com/rooms/6913706', 'https://www.airbnb.com/rooms/2976798', 'https://www.airbnb.com/rooms/4710869', 'https://www.airbnb.com/rooms/3404700', 'https://www.airbnb.com/rooms/8815638', 'https://www.airbnb.com/rooms/257140', 'https://www.airbnb.com/rooms/9067268', 'https://www.airbnb.com/rooms/8014547', 'https://www.airbnb.com/rooms/7714585', 'https://www.airbnb.com/rooms/7777381', 'https://www.airbnb.com/rooms/7692789', 'https://www.airbnb.com/rooms/8869680', 'https://www.airbnb.com/rooms/555182', 'https://www.airbnb.com/rooms/394408', 'https://www.airbnb.com/rooms/4773614', 'https://www.airbnb.com/rooms/1593939', 'https://www.airbnb.com/rooms/8759443', 'https://www.airbnb.com/rooms/3489083', 'https://www.airbnb.com/rooms/9364220', 'https://www.airbnb.com/rooms/108765', 'https://www.airbnb.com/rooms/43373', 'https://www.airbnb.com/rooms/4464542', 'https://www.airbnb.com/rooms/3488436', 'https://www.airbnb.com/rooms/10235136', 'https://www.airbnb.com/rooms/1520449', 'https://www.airbnb.com/rooms/3479851', 'https://www.airbnb.com/rooms/496074', 'https://www.airbnb.com/rooms/1175308', 'https://www.airbnb.com/rooms/6750264', 'https://www.airbnb.com/rooms/1030615', 'https://www.airbnb.com/rooms/610989', 'https://www.airbnb.com/rooms/6512378', 'https://www.airbnb.com/rooms/7127036', 'https://www.airbnb.com/rooms/1244053', 'https://www.airbnb.com/rooms/1494986', 'https://www.airbnb.com/rooms/1742425', 'https://www.airbnb.com/rooms/7037291', 'https://www.airbnb.com/rooms/1747184', 'https://www.airbnb.com/rooms/7007118', 'https://www.airbnb.com/rooms/619366', 'https://www.airbnb.com/rooms/7247767', 'https://www.airbnb.com/rooms/5123904', 'https://www.airbnb.com/rooms/613151', 'https://www.airbnb.com/rooms/3738724', 'https://www.airbnb.com/rooms/8174626', 'https://www.airbnb.com/rooms/585418', 'https://www.airbnb.com/rooms/10309898', 'https://www.airbnb.com/rooms/5978216', 'https://www.airbnb.com/rooms/10140582', 'https://www.airbnb.com/rooms/9679741', 'https://www.airbnb.com/rooms/103466', 'https://www.airbnb.com/rooms/1457330', 'https://www.airbnb.com/rooms/6214517', 'https://www.airbnb.com/rooms/752483', 'https://www.airbnb.com/rooms/3424991', 'https://www.airbnb.com/rooms/872152', 'https://www.airbnb.com/rooms/8828781', 'https://www.airbnb.com/rooms/8755762', 'https://www.airbnb.com/rooms/5652705', 'https://www.airbnb.com/rooms/8536441', 'https://www.airbnb.com/rooms/8683011', 'https://www.airbnb.com/rooms/8958290', 'https://www.airbnb.com/rooms/8653843', 'https://www.airbnb.com/rooms/1209255', 'https://www.airbnb.com/rooms/6514446', 'https://www.airbnb.com/rooms/189156', 'https://www.airbnb.com/rooms/6523393', 'https://www.airbnb.com/rooms/3231850', 'https://www.airbnb.com/rooms/9215782', 'https://www.airbnb.com/rooms/6452801', 'https://www.airbnb.com/rooms/10281965', 'https://www.airbnb.com/rooms/3504521', 'https://www.airbnb.com/rooms/5308429', 'https://www.airbnb.com/rooms/8194164', 'https://www.airbnb.com/rooms/841274', 'https://www.airbnb.com/rooms/3024336', 'https://www.airbnb.com/rooms/353110', 'https://www.airbnb.com/rooms/4485424', 'https://www.airbnb.com/rooms/8551871', 'https://www.airbnb.com/rooms/5242148', 'https://www.airbnb.com/rooms/5562674', 'https://www.airbnb.com/rooms/7387294', 'https://www.airbnb.com/rooms/7439802', 'https://www.airbnb.com/rooms/1114695', 'https://www.airbnb.com/rooms/2898954', 'https://www.airbnb.com/rooms/4856986', 'https://www.airbnb.com/rooms/5042014', 'https://www.airbnb.com/rooms/670056', 'https://www.airbnb.com/rooms/9370866', 'https://www.airbnb.com/rooms/4941356', 'https://www.airbnb.com/rooms/4871348', 'https://www.airbnb.com/rooms/6335327', 'https://www.airbnb.com/rooms/4526943', 'https://www.airbnb.com/rooms/6343866', 'https://www.airbnb.com/rooms/4288801', 'https://www.airbnb.com/rooms/8355276', 'https://www.airbnb.com/rooms/4922836', 'https://www.airbnb.com/rooms/671828', 'https://www.airbnb.com/rooms/8472954', 'https://www.airbnb.com/rooms/2197982', 'https://www.airbnb.com/rooms/8723086', 'https://www.airbnb.com/rooms/8637174', 'https://www.airbnb.com/rooms/4370312', 'https://www.airbnb.com/rooms/5365612', 'https://www.airbnb.com/rooms/19619', 'https://www.airbnb.com/rooms/4258762', 'https://www.airbnb.com/rooms/38545', 'https://www.airbnb.com/rooms/430609', 'https://www.airbnb.com/rooms/1732441', 'https://www.airbnb.com/rooms/7258811', 'https://www.airbnb.com/rooms/4163306', 'https://www.airbnb.com/rooms/5319948', 'https://www.airbnb.com/rooms/4084398', 'https://www.airbnb.com/rooms/5056580', 'https://www.airbnb.com/rooms/8446766', 'https://www.airbnb.com/rooms/3401644', 'https://www.airbnb.com/rooms/1055661', 'https://www.airbnb.com/rooms/1589461', 'https://www.airbnb.com/rooms/937370', 'https://www.airbnb.com/rooms/7727428', 'https://www.airbnb.com/rooms/5058302', 'https://www.airbnb.com/rooms/4388148', 'https://www.airbnb.com/rooms/1815304', 'https://www.airbnb.com/rooms/7035498', 'https://www.airbnb.com/rooms/6492880', 'https://www.airbnb.com/rooms/4360604', 'https://www.airbnb.com/rooms/8643209', 'https://www.airbnb.com/rooms/5164581', 'https://www.airbnb.com/rooms/10208623', 'https://www.airbnb.com/rooms/9999759', 'https://www.airbnb.com/rooms/8579782', 'https://www.airbnb.com/rooms/7647221', 'https://www.airbnb.com/rooms/7110655', 'https://www.airbnb.com/rooms/8308353', 'https://www.airbnb.com/rooms/5051529', 'https://www.airbnb.com/rooms/8193054', 'https://www.airbnb.com/rooms/4531944', 'https://www.airbnb.com/rooms/7266662', 'https://www.airbnb.com/rooms/8327083', 'https://www.airbnb.com/rooms/5252877', 'https://www.airbnb.com/rooms/10339144', 'https://www.airbnb.com/rooms/6886633', 'https://www.airbnb.com/rooms/6768768', 'https://www.airbnb.com/rooms/1790020', 'https://www.airbnb.com/rooms/7713043', 'https://www.airbnb.com/rooms/3697351', 'https://www.airbnb.com/rooms/8338849', 'https://www.airbnb.com/rooms/5126077', 'https://www.airbnb.com/rooms/7860837', 'https://www.airbnb.com/rooms/5270886', 'https://www.airbnb.com/rooms/9685856', 'https://www.airbnb.com/rooms/9444769', 'https://www.airbnb.com/rooms/1920477', 'https://www.airbnb.com/rooms/2158992', 'https://www.airbnb.com/rooms/9663221', 'https://www.airbnb.com/rooms/10318171', 'https://www.airbnb.com/rooms/9531265', 'https://www.airbnb.com/rooms/8342429', 'https://www.airbnb.com/rooms/1851863', 'https://www.airbnb.com/rooms/6854019', 'https://www.airbnb.com/rooms/6837338', 'https://www.airbnb.com/rooms/3157738', 'https://www.airbnb.com/rooms/8131881', 'https://www.airbnb.com/rooms/3768742', 'https://www.airbnb.com/rooms/9348375', 'https://www.airbnb.com/rooms/9217150', 'https://www.airbnb.com/rooms/5804875', 'https://www.airbnb.com/rooms/2194715', 'https://www.airbnb.com/rooms/5548982', 'https://www.airbnb.com/rooms/2130652', 'https://www.airbnb.com/rooms/7678064', 'https://www.airbnb.com/rooms/3303376', 'https://www.airbnb.com/rooms/5989894', 'https://www.airbnb.com/rooms/909102', 'https://www.airbnb.com/rooms/9220485', 'https://www.airbnb.com/rooms/2004931', 'https://www.airbnb.com/rooms/52525', 'https://www.airbnb.com/rooms/286080', 'https://www.airbnb.com/rooms/4423130', 'https://www.airbnb.com/rooms/3246706', 'https://www.airbnb.com/rooms/6342327', 'https://www.airbnb.com/rooms/7619060', 'https://www.airbnb.com/rooms/4251235', 'https://www.airbnb.com/rooms/10122924', 'https://www.airbnb.com/rooms/1672979', 'https://www.airbnb.com/rooms/7559939', 'https://www.airbnb.com/rooms/5579427', 'https://www.airbnb.com/rooms/380950', 'https://www.airbnb.com/rooms/8483477', 'https://www.airbnb.com/rooms/7638282', 'https://www.airbnb.com/rooms/1455269', 'https://www.airbnb.com/rooms/2489283', 'https://www.airbnb.com/rooms/8817038', 'https://www.airbnb.com/rooms/6882211', 'https://www.airbnb.com/rooms/10272763', 'https://www.airbnb.com/rooms/4025954', 'https://www.airbnb.com/rooms/8373664', 'https://www.airbnb.com/rooms/4163851', 'https://www.airbnb.com/rooms/7839723', 'https://www.airbnb.com/rooms/6916167', 'https://www.airbnb.com/rooms/757840', 'https://www.airbnb.com/rooms/4236723', 'https://www.airbnb.com/rooms/7222136', 'https://www.airbnb.com/rooms/86185', 'https://www.airbnb.com/rooms/7883181', 'https://www.airbnb.com/rooms/1594219', 'https://www.airbnb.com/rooms/4577542', 'https://www.airbnb.com/rooms/6545602', 'https://www.airbnb.com/rooms/8446541', 'https://www.airbnb.com/rooms/7665114', 'https://www.airbnb.com/rooms/9961538', 'https://www.airbnb.com/rooms/8104742', 'https://www.airbnb.com/rooms/8090541', 'https://www.airbnb.com/rooms/6362918', 'https://www.airbnb.com/rooms/9298045', 'https://www.airbnb.com/rooms/9063355', 'https://www.airbnb.com/rooms/817115', 'https://www.airbnb.com/rooms/9116815', 'https://www.airbnb.com/rooms/9094836', 'https://www.airbnb.com/rooms/8902887', 'https://www.airbnb.com/rooms/1978743', 'https://www.airbnb.com/rooms/3282760', 'https://www.airbnb.com/rooms/7843145', 'https://www.airbnb.com/rooms/5020848', 'https://www.airbnb.com/rooms/5308875', 'https://www.airbnb.com/rooms/8957312', 'https://www.airbnb.com/rooms/8578490', 'https://www.airbnb.com/rooms/8322107', 'https://www.airbnb.com/rooms/1048798', 'https://www.airbnb.com/rooms/4135710', 'https://www.airbnb.com/rooms/911001', 'https://www.airbnb.com/rooms/8102349', 'https://www.airbnb.com/rooms/4324917', 'https://www.airbnb.com/rooms/3884805', 'https://www.airbnb.com/rooms/3884851', 'https://www.airbnb.com/rooms/3803947', 'https://www.airbnb.com/rooms/9473312', 'https://www.airbnb.com/rooms/8150145', 'https://www.airbnb.com/rooms/6644760', 'https://www.airbnb.com/rooms/9521903', 'https://www.airbnb.com/rooms/443736', 'https://www.airbnb.com/rooms/9462315', 'https://www.airbnb.com/rooms/3783162', 'https://www.airbnb.com/rooms/699460', 'https://www.airbnb.com/rooms/6474341', 'https://www.airbnb.com/rooms/5900224', 'https://www.airbnb.com/rooms/2522091', 'https://www.airbnb.com/rooms/8221520', 'https://www.airbnb.com/rooms/7459637', 'https://www.airbnb.com/rooms/7773851', 'https://www.airbnb.com/rooms/10068879', 'https://www.airbnb.com/rooms/10299195', 'https://www.airbnb.com/rooms/8102064', 'https://www.airbnb.com/rooms/7735313', 'https://www.airbnb.com/rooms/9419', 'https://www.airbnb.com/rooms/4235559', 'https://www.airbnb.com/rooms/7824870', 'https://www.airbnb.com/rooms/6637899', 'https://www.airbnb.com/rooms/6627184', 'https://www.airbnb.com/rooms/9497431', 'https://www.airbnb.com/rooms/3961077', 'https://www.airbnb.com/rooms/9154294', 'https://www.airbnb.com/rooms/9282348', 'https://www.airbnb.com/rooms/2856806', 'https://www.airbnb.com/rooms/7095802', 'https://www.airbnb.com/rooms/278192', 'https://www.airbnb.com/rooms/7131797', 'https://www.airbnb.com/rooms/4638785', 'https://www.airbnb.com/rooms/385438', 'https://www.airbnb.com/rooms/6627129', 'https://www.airbnb.com/rooms/8674765', 'https://www.airbnb.com/rooms/6392029', 'https://www.airbnb.com/rooms/9863312', 'https://www.airbnb.com/rooms/2943860', 'https://www.airbnb.com/rooms/6032726', 'https://www.airbnb.com/rooms/8829089', 'https://www.airbnb.com/rooms/1264287', 'https://www.airbnb.com/rooms/3061918', 'https://www.airbnb.com/rooms/1633025', 'https://www.airbnb.com/rooms/7390195', 'https://www.airbnb.com/rooms/2508065', 'https://www.airbnb.com/rooms/2387605', 'https://www.airbnb.com/rooms/5941598', 'https://www.airbnb.com/rooms/2612025', 'https://www.airbnb.com/rooms/808134', 'https://www.airbnb.com/rooms/3382533', 'https://www.airbnb.com/rooms/5422159', 'https://www.airbnb.com/rooms/10026648', 'https://www.airbnb.com/rooms/4316910', 'https://www.airbnb.com/rooms/366301', 'https://www.airbnb.com/rooms/7748905', 'https://www.airbnb.com/rooms/9110730', 'https://www.airbnb.com/rooms/23919', 'https://www.airbnb.com/rooms/5309974', 'https://www.airbnb.com/rooms/9823290', 'https://www.airbnb.com/rooms/3994634', 'https://www.airbnb.com/rooms/3921664', 'https://www.airbnb.com/rooms/5680462', 'https://www.airbnb.com/rooms/3925572', 'https://www.airbnb.com/rooms/5249093', 'https://www.airbnb.com/rooms/2746782', 'https://www.airbnb.com/rooms/143704', 'https://www.airbnb.com/rooms/6278680', 'https://www.airbnb.com/rooms/4047058', 'https://www.airbnb.com/rooms/6363765', 'https://www.airbnb.com/rooms/3404914', 'https://www.airbnb.com/rooms/934123', 'https://www.airbnb.com/rooms/2776890', 'https://www.airbnb.com/rooms/3263071', 'https://www.airbnb.com/rooms/790860', 'https://www.airbnb.com/rooms/7204672', 'https://www.airbnb.com/rooms/7501583', 'https://www.airbnb.com/rooms/10267360', 'https://www.airbnb.com/rooms/3033913', 'https://www.airbnb.com/rooms/6325283', 'https://www.airbnb.com/rooms/8385444', 'https://www.airbnb.com/rooms/8273948', 'https://www.airbnb.com/rooms/6968101', 'https://www.airbnb.com/rooms/7840228', 'https://www.airbnb.com/rooms/1476298', 'https://www.airbnb.com/rooms/8616488', 'https://www.airbnb.com/rooms/7021702', 'https://www.airbnb.com/rooms/5874421', 'https://www.airbnb.com/rooms/8924032', 'https://www.airbnb.com/rooms/6073437', 'https://www.airbnb.com/rooms/6872650', 'https://www.airbnb.com/rooms/5625964', 'https://www.airbnb.com/rooms/59838', 'https://www.airbnb.com/rooms/4707171', 'https://www.airbnb.com/rooms/5272327', 'https://www.airbnb.com/rooms/1488166', 'https://www.airbnb.com/rooms/9477539', 'https://www.airbnb.com/rooms/2692126', 'https://www.airbnb.com/rooms/4825472', 'https://www.airbnb.com/rooms/611509', 'https://www.airbnb.com/rooms/4031625', 'https://www.airbnb.com/rooms/7278583', 'https://www.airbnb.com/rooms/9632775', 'https://www.airbnb.com/rooms/3883392', 'https://www.airbnb.com/rooms/3242605', 'https://www.airbnb.com/rooms/4668327', 'https://www.airbnb.com/rooms/4869458', 'https://www.airbnb.com/rooms/2621746', 'https://www.airbnb.com/rooms/262764', 'https://www.airbnb.com/rooms/8212989', 'https://www.airbnb.com/rooms/7616008', 'https://www.airbnb.com/rooms/6897639', 'https://www.airbnb.com/rooms/3561108', 'https://www.airbnb.com/rooms/180939', 'https://www.airbnb.com/rooms/3977605', 'https://www.airbnb.com/rooms/7701014', 'https://www.airbnb.com/rooms/486829', 'https://www.airbnb.com/rooms/8052542', 'https://www.airbnb.com/rooms/6451305', 'https://www.airbnb.com/rooms/6350606', 'https://www.airbnb.com/rooms/902609', 'https://www.airbnb.com/rooms/9410302', 'https://www.airbnb.com/rooms/4449303', 'https://www.airbnb.com/rooms/2357110', 'https://www.airbnb.com/rooms/4349344', 'https://www.airbnb.com/rooms/1709737', 'https://www.airbnb.com/rooms/4211629', 'https://www.airbnb.com/rooms/5126446', 'https://www.airbnb.com/rooms/7788695', 'https://www.airbnb.com/rooms/8326940', 'https://www.airbnb.com/rooms/10229434', 'https://www.airbnb.com/rooms/3930270', 'https://www.airbnb.com/rooms/4916433', 'https://www.airbnb.com/rooms/8799909', 'https://www.airbnb.com/rooms/7203408', 'https://www.airbnb.com/rooms/6246861', 'https://www.airbnb.com/rooms/445199', 'https://www.airbnb.com/rooms/8811945', 'https://www.airbnb.com/rooms/3994397', 'https://www.airbnb.com/rooms/6325685', 'https://www.airbnb.com/rooms/1562643', 'https://www.airbnb.com/rooms/3552006', 'https://www.airbnb.com/rooms/631445', 'https://www.airbnb.com/rooms/8293287', 'https://www.airbnb.com/rooms/6927016', 'https://www.airbnb.com/rooms/7763878', 'https://www.airbnb.com/rooms/4250367', 'https://www.airbnb.com/rooms/6528342', 'https://www.airbnb.com/rooms/7027507', 'https://www.airbnb.com/rooms/1950012', 'https://www.airbnb.com/rooms/8409695', 'https://www.airbnb.com/rooms/2688555', 'https://www.airbnb.com/rooms/6131411', 'https://www.airbnb.com/rooms/7153101', 'https://www.airbnb.com/rooms/9460', 'https://www.airbnb.com/rooms/8099917', 'https://www.airbnb.com/rooms/3144311', 'https://www.airbnb.com/rooms/6004058', 'https://www.airbnb.com/rooms/6438013', 'https://www.airbnb.com/rooms/3906076', 'https://www.airbnb.com/rooms/7791010', 'https://www.airbnb.com/rooms/7616507', 'https://www.airbnb.com/rooms/6575380', 'https://www.airbnb.com/rooms/7291403', 'https://www.airbnb.com/rooms/1820794', 'https://www.airbnb.com/rooms/719233', 'https://www.airbnb.com/rooms/1484651', 'https://www.airbnb.com/rooms/6554352', 'https://www.airbnb.com/rooms/2897897', 'https://www.airbnb.com/rooms/4752817', 'https://www.airbnb.com/rooms/9031119', 'https://www.airbnb.com/rooms/1737244', 'https://www.airbnb.com/rooms/5286781', 'https://www.airbnb.com/rooms/7329915', 'https://www.airbnb.com/rooms/3793406', 'https://www.airbnb.com/rooms/7038750', 'https://www.airbnb.com/rooms/7347229', 'https://www.airbnb.com/rooms/9217446', 'https://www.airbnb.com/rooms/2051658', 'https://www.airbnb.com/rooms/2536507', 'https://www.airbnb.com/rooms/5892185', 'https://www.airbnb.com/rooms/340706', 'https://www.airbnb.com/rooms/6495424', 'https://www.airbnb.com/rooms/4653552', 'https://www.airbnb.com/rooms/10060674', 'https://www.airbnb.com/rooms/8034871', 'https://www.airbnb.com/rooms/8455865', 'https://www.airbnb.com/rooms/6289789', 'https://www.airbnb.com/rooms/7742525', 'https://www.airbnb.com/rooms/2481869', 'https://www.airbnb.com/rooms/8459215', 'https://www.airbnb.com/rooms/5705161', 'https://www.airbnb.com/rooms/9710851', 'https://www.airbnb.com/rooms/4277026', 'https://www.airbnb.com/rooms/3281072', 'https://www.airbnb.com/rooms/6482984', 'https://www.airbnb.com/rooms/265901', 'https://www.airbnb.com/rooms/7349099', 'https://www.airbnb.com/rooms/5751177', 'https://www.airbnb.com/rooms/9098494', 'https://www.airbnb.com/rooms/7205443', 'https://www.airbnb.com/rooms/8147986', 'https://www.airbnb.com/rooms/3953611', 'https://www.airbnb.com/rooms/6655233', 'https://www.airbnb.com/rooms/1472532', 'https://www.airbnb.com/rooms/3385421', 'https://www.airbnb.com/rooms/1593991', 'https://www.airbnb.com/rooms/9025039', 'https://www.airbnb.com/rooms/10332096', 'https://www.airbnb.com/rooms/1494828', 'https://www.airbnb.com/rooms/5948003', 'https://www.airbnb.com/rooms/7455068', 'https://www.airbnb.com/rooms/7922373', 'https://www.airbnb.com/rooms/2516391', 'https://www.airbnb.com/rooms/7198282', 'https://www.airbnb.com/rooms/7036707', 'https://www.airbnb.com/rooms/5325214', 'https://www.airbnb.com/rooms/8131762', 'https://www.airbnb.com/rooms/7597244', 'https://www.airbnb.com/rooms/8072850', 'https://www.airbnb.com/rooms/5615620', 'https://www.airbnb.com/rooms/1954452', 'https://www.airbnb.com/rooms/6813483', 'https://www.airbnb.com/rooms/170273', 'https://www.airbnb.com/rooms/8054902', 'https://www.airbnb.com/rooms/5719631', 'https://www.airbnb.com/rooms/945645', 'https://www.airbnb.com/rooms/3186785', 'https://www.airbnb.com/rooms/8785768', 'https://www.airbnb.com/rooms/8086294', 'https://www.airbnb.com/rooms/9866461', 'https://www.airbnb.com/rooms/10235014', 'https://www.airbnb.com/rooms/6425735', 'https://www.airbnb.com/rooms/8559462', 'https://www.airbnb.com/rooms/2980762', 'https://www.airbnb.com/rooms/5463875', 'https://www.airbnb.com/rooms/2978929', 'https://www.airbnb.com/rooms/4432489', 'https://www.airbnb.com/rooms/9015088', 'https://www.airbnb.com/rooms/7805491', 'https://www.airbnb.com/rooms/9367465', 'https://www.airbnb.com/rooms/1772119', 'https://www.airbnb.com/rooms/7011200', 'https://www.airbnb.com/rooms/10334184', 'https://www.airbnb.com/rooms/7517684', 'https://www.airbnb.com/rooms/7161725', 'https://www.airbnb.com/rooms/3811828', 'https://www.airbnb.com/rooms/9739482', 'https://www.airbnb.com/rooms/2882641', 'https://www.airbnb.com/rooms/1100686', 'https://www.airbnb.com/rooms/8722230', 'https://www.airbnb.com/rooms/7807169', 'https://www.airbnb.com/rooms/7974112', 'https://www.airbnb.com/rooms/9813231', 'https://www.airbnb.com/rooms/9888395', 'https://www.airbnb.com/rooms/1027860', 'https://www.airbnb.com/rooms/9254900', 'https://www.airbnb.com/rooms/6316934', 'https://www.airbnb.com/rooms/4357979', 'https://www.airbnb.com/rooms/1782140', 'https://www.airbnb.com/rooms/6445741', 'https://www.airbnb.com/rooms/7952032', 'https://www.airbnb.com/rooms/565703', 'https://www.airbnb.com/rooms/4395502', 'https://www.airbnb.com/rooms/4694479', 'https://www.airbnb.com/rooms/7733192', 'https://www.airbnb.com/rooms/6882518', 'https://www.airbnb.com/rooms/5992645', 'https://www.airbnb.com/rooms/5524847', 'https://www.airbnb.com/rooms/107962', 'https://www.airbnb.com/rooms/1589681', 'https://www.airbnb.com/rooms/158953', 'https://www.airbnb.com/rooms/8689375', 'https://www.airbnb.com/rooms/797358', 'https://www.airbnb.com/rooms/1499596', 'https://www.airbnb.com/rooms/4026757', 'https://www.airbnb.com/rooms/7561254', 'https://www.airbnb.com/rooms/6701018', 'https://www.airbnb.com/rooms/535300', 'https://www.airbnb.com/rooms/8107555', 'https://www.airbnb.com/rooms/1762354', 'https://www.airbnb.com/rooms/2686624', 'https://www.airbnb.com/rooms/9097754', 'https://www.airbnb.com/rooms/6881188', 'https://www.airbnb.com/rooms/9199082', 'https://www.airbnb.com/rooms/4943016', 'https://www.airbnb.com/rooms/1880734', 'https://www.airbnb.com/rooms/4766173', 'https://www.airbnb.com/rooms/1796861', 'https://www.airbnb.com/rooms/8425013', 'https://www.airbnb.com/rooms/6935953', 'https://www.airbnb.com/rooms/6400000', 'https://www.airbnb.com/rooms/6941113', 'https://www.airbnb.com/rooms/4567243', 'https://www.airbnb.com/rooms/4384343', 'https://www.airbnb.com/rooms/5031285', 'https://www.airbnb.com/rooms/877203', 'https://www.airbnb.com/rooms/9509279', 'https://www.airbnb.com/rooms/7748866', 'https://www.airbnb.com/rooms/7249631', 'https://www.airbnb.com/rooms/7667990', 'https://www.airbnb.com/rooms/8050642', 'https://www.airbnb.com/rooms/2858482', 'https://www.airbnb.com/rooms/6475289', 'https://www.airbnb.com/rooms/6823781', 'https://www.airbnb.com/rooms/9294683', 'https://www.airbnb.com/rooms/7901725', 'https://www.airbnb.com/rooms/5364119', 'https://www.airbnb.com/rooms/598023', 'https://www.airbnb.com/rooms/2693137', 'https://www.airbnb.com/rooms/1806899', 'https://www.airbnb.com/rooms/1200083', 'https://www.airbnb.com/rooms/8170683', 'https://www.airbnb.com/rooms/7534300', 'https://www.airbnb.com/rooms/5981343', 'https://www.airbnb.com/rooms/6425652', 'https://www.airbnb.com/rooms/7802149', 'https://www.airbnb.com/rooms/4130102', 'https://www.airbnb.com/rooms/47491', 'https://www.airbnb.com/rooms/6938103', 'https://www.airbnb.com/rooms/8174285', 'https://www.airbnb.com/rooms/1429904', 'https://www.airbnb.com/rooms/5632713', 'https://www.airbnb.com/rooms/5792683'] in column 0 during transform",
     "traceback": [
      "\u001b[0;31m---------------------------------------------------------------------------\u001b[0m",
      "\u001b[0;31mValueError\u001b[0m                                Traceback (most recent call last)",
      "\u001b[0;32m<ipython-input-147-64663ac49cb5>\u001b[0m in \u001b[0;36m<module>\u001b[0;34m\u001b[0m\n\u001b[1;32m      5\u001b[0m \u001b[0;34m\u001b[0m\u001b[0m\n\u001b[1;32m      6\u001b[0m \u001b[0mfull_pipeline_with_predictor\u001b[0m\u001b[0;34m.\u001b[0m\u001b[0mfit\u001b[0m\u001b[0;34m(\u001b[0m\u001b[0mX_train\u001b[0m\u001b[0;34m,\u001b[0m \u001b[0my_train\u001b[0m\u001b[0;34m)\u001b[0m\u001b[0;34m\u001b[0m\u001b[0;34m\u001b[0m\u001b[0m\n\u001b[0;32m----> 7\u001b[0;31m \u001b[0my_pred\u001b[0m \u001b[0;34m=\u001b[0m \u001b[0mfull_pipeline_with_predictor\u001b[0m\u001b[0;34m.\u001b[0m\u001b[0mpredict\u001b[0m\u001b[0;34m(\u001b[0m\u001b[0mX_test\u001b[0m\u001b[0;34m)\u001b[0m\u001b[0;34m\u001b[0m\u001b[0;34m\u001b[0m\u001b[0m\n\u001b[0m",
      "\u001b[0;32m~/opt/anaconda3/envs/tf2/lib/python3.7/site-packages/sklearn/utils/metaestimators.py\u001b[0m in \u001b[0;36m<lambda>\u001b[0;34m(*args, **kwargs)\u001b[0m\n\u001b[1;32m    118\u001b[0m \u001b[0;34m\u001b[0m\u001b[0m\n\u001b[1;32m    119\u001b[0m         \u001b[0;31m# lambda, but not partial, allows help() to work with update_wrapper\u001b[0m\u001b[0;34m\u001b[0m\u001b[0;34m\u001b[0m\u001b[0;34m\u001b[0m\u001b[0m\n\u001b[0;32m--> 120\u001b[0;31m         \u001b[0mout\u001b[0m \u001b[0;34m=\u001b[0m \u001b[0;32mlambda\u001b[0m \u001b[0;34m*\u001b[0m\u001b[0margs\u001b[0m\u001b[0;34m,\u001b[0m \u001b[0;34m**\u001b[0m\u001b[0mkwargs\u001b[0m\u001b[0;34m:\u001b[0m \u001b[0mself\u001b[0m\u001b[0;34m.\u001b[0m\u001b[0mfn\u001b[0m\u001b[0;34m(\u001b[0m\u001b[0mobj\u001b[0m\u001b[0;34m,\u001b[0m \u001b[0;34m*\u001b[0m\u001b[0margs\u001b[0m\u001b[0;34m,\u001b[0m \u001b[0;34m**\u001b[0m\u001b[0mkwargs\u001b[0m\u001b[0;34m)\u001b[0m\u001b[0;34m\u001b[0m\u001b[0;34m\u001b[0m\u001b[0m\n\u001b[0m\u001b[1;32m    121\u001b[0m         \u001b[0;31m# update the docstring of the returned function\u001b[0m\u001b[0;34m\u001b[0m\u001b[0;34m\u001b[0m\u001b[0;34m\u001b[0m\u001b[0m\n\u001b[1;32m    122\u001b[0m         \u001b[0mupdate_wrapper\u001b[0m\u001b[0;34m(\u001b[0m\u001b[0mout\u001b[0m\u001b[0;34m,\u001b[0m \u001b[0mself\u001b[0m\u001b[0;34m.\u001b[0m\u001b[0mfn\u001b[0m\u001b[0;34m)\u001b[0m\u001b[0;34m\u001b[0m\u001b[0;34m\u001b[0m\u001b[0m\n",
      "\u001b[0;32m~/opt/anaconda3/envs/tf2/lib/python3.7/site-packages/sklearn/pipeline.py\u001b[0m in \u001b[0;36mpredict\u001b[0;34m(self, X, **predict_params)\u001b[0m\n\u001b[1;32m    416\u001b[0m         \u001b[0mXt\u001b[0m \u001b[0;34m=\u001b[0m \u001b[0mX\u001b[0m\u001b[0;34m\u001b[0m\u001b[0;34m\u001b[0m\u001b[0m\n\u001b[1;32m    417\u001b[0m         \u001b[0;32mfor\u001b[0m \u001b[0m_\u001b[0m\u001b[0;34m,\u001b[0m \u001b[0mname\u001b[0m\u001b[0;34m,\u001b[0m \u001b[0mtransform\u001b[0m \u001b[0;32min\u001b[0m \u001b[0mself\u001b[0m\u001b[0;34m.\u001b[0m\u001b[0m_iter\u001b[0m\u001b[0;34m(\u001b[0m\u001b[0mwith_final\u001b[0m\u001b[0;34m=\u001b[0m\u001b[0;32mFalse\u001b[0m\u001b[0;34m)\u001b[0m\u001b[0;34m:\u001b[0m\u001b[0;34m\u001b[0m\u001b[0;34m\u001b[0m\u001b[0m\n\u001b[0;32m--> 418\u001b[0;31m             \u001b[0mXt\u001b[0m \u001b[0;34m=\u001b[0m \u001b[0mtransform\u001b[0m\u001b[0;34m.\u001b[0m\u001b[0mtransform\u001b[0m\u001b[0;34m(\u001b[0m\u001b[0mXt\u001b[0m\u001b[0;34m)\u001b[0m\u001b[0;34m\u001b[0m\u001b[0;34m\u001b[0m\u001b[0m\n\u001b[0m\u001b[1;32m    419\u001b[0m         \u001b[0;32mreturn\u001b[0m \u001b[0mself\u001b[0m\u001b[0;34m.\u001b[0m\u001b[0msteps\u001b[0m\u001b[0;34m[\u001b[0m\u001b[0;34m-\u001b[0m\u001b[0;36m1\u001b[0m\u001b[0;34m]\u001b[0m\u001b[0;34m[\u001b[0m\u001b[0;34m-\u001b[0m\u001b[0;36m1\u001b[0m\u001b[0;34m]\u001b[0m\u001b[0;34m.\u001b[0m\u001b[0mpredict\u001b[0m\u001b[0;34m(\u001b[0m\u001b[0mXt\u001b[0m\u001b[0;34m,\u001b[0m \u001b[0;34m**\u001b[0m\u001b[0mpredict_params\u001b[0m\u001b[0;34m)\u001b[0m\u001b[0;34m\u001b[0m\u001b[0;34m\u001b[0m\u001b[0m\n\u001b[1;32m    420\u001b[0m \u001b[0;34m\u001b[0m\u001b[0m\n",
      "\u001b[0;32m~/opt/anaconda3/envs/tf2/lib/python3.7/site-packages/sklearn/compose/_column_transformer.py\u001b[0m in \u001b[0;36mtransform\u001b[0;34m(self, X)\u001b[0m\n\u001b[1;32m    563\u001b[0m                 \u001b[0;34m\"data given during fit.\"\u001b[0m\u001b[0;34m\u001b[0m\u001b[0;34m\u001b[0m\u001b[0m\n\u001b[1;32m    564\u001b[0m             )\n\u001b[0;32m--> 565\u001b[0;31m         \u001b[0mXs\u001b[0m \u001b[0;34m=\u001b[0m \u001b[0mself\u001b[0m\u001b[0;34m.\u001b[0m\u001b[0m_fit_transform\u001b[0m\u001b[0;34m(\u001b[0m\u001b[0mX\u001b[0m\u001b[0;34m,\u001b[0m \u001b[0;32mNone\u001b[0m\u001b[0;34m,\u001b[0m \u001b[0m_transform_one\u001b[0m\u001b[0;34m,\u001b[0m \u001b[0mfitted\u001b[0m\u001b[0;34m=\u001b[0m\u001b[0;32mTrue\u001b[0m\u001b[0;34m)\u001b[0m\u001b[0;34m\u001b[0m\u001b[0;34m\u001b[0m\u001b[0m\n\u001b[0m\u001b[1;32m    566\u001b[0m         \u001b[0mself\u001b[0m\u001b[0;34m.\u001b[0m\u001b[0m_validate_output\u001b[0m\u001b[0;34m(\u001b[0m\u001b[0mXs\u001b[0m\u001b[0;34m)\u001b[0m\u001b[0;34m\u001b[0m\u001b[0;34m\u001b[0m\u001b[0m\n\u001b[1;32m    567\u001b[0m \u001b[0;34m\u001b[0m\u001b[0m\n",
      "\u001b[0;32m~/opt/anaconda3/envs/tf2/lib/python3.7/site-packages/sklearn/compose/_column_transformer.py\u001b[0m in \u001b[0;36m_fit_transform\u001b[0;34m(self, X, y, func, fitted)\u001b[0m\n\u001b[1;32m    442\u001b[0m                     message=self._log_message(name, idx, len(transformers)))\n\u001b[1;32m    443\u001b[0m                 for idx, (name, trans, column, weight) in enumerate(\n\u001b[0;32m--> 444\u001b[0;31m                         self._iter(fitted=fitted, replace_strings=True), 1))\n\u001b[0m\u001b[1;32m    445\u001b[0m         \u001b[0;32mexcept\u001b[0m \u001b[0mValueError\u001b[0m \u001b[0;32mas\u001b[0m \u001b[0me\u001b[0m\u001b[0;34m:\u001b[0m\u001b[0;34m\u001b[0m\u001b[0;34m\u001b[0m\u001b[0m\n\u001b[1;32m    446\u001b[0m             \u001b[0;32mif\u001b[0m \u001b[0;34m\"Expected 2D array, got 1D array instead\"\u001b[0m \u001b[0;32min\u001b[0m \u001b[0mstr\u001b[0m\u001b[0;34m(\u001b[0m\u001b[0me\u001b[0m\u001b[0;34m)\u001b[0m\u001b[0;34m:\u001b[0m\u001b[0;34m\u001b[0m\u001b[0;34m\u001b[0m\u001b[0m\n",
      "\u001b[0;32m~/opt/anaconda3/envs/tf2/lib/python3.7/site-packages/joblib/parallel.py\u001b[0m in \u001b[0;36m__call__\u001b[0;34m(self, iterable)\u001b[0m\n\u001b[1;32m   1005\u001b[0m                 \u001b[0mself\u001b[0m\u001b[0;34m.\u001b[0m\u001b[0m_iterating\u001b[0m \u001b[0;34m=\u001b[0m \u001b[0mself\u001b[0m\u001b[0;34m.\u001b[0m\u001b[0m_original_iterator\u001b[0m \u001b[0;32mis\u001b[0m \u001b[0;32mnot\u001b[0m \u001b[0;32mNone\u001b[0m\u001b[0;34m\u001b[0m\u001b[0;34m\u001b[0m\u001b[0m\n\u001b[1;32m   1006\u001b[0m \u001b[0;34m\u001b[0m\u001b[0m\n\u001b[0;32m-> 1007\u001b[0;31m             \u001b[0;32mwhile\u001b[0m \u001b[0mself\u001b[0m\u001b[0;34m.\u001b[0m\u001b[0mdispatch_one_batch\u001b[0m\u001b[0;34m(\u001b[0m\u001b[0miterator\u001b[0m\u001b[0;34m)\u001b[0m\u001b[0;34m:\u001b[0m\u001b[0;34m\u001b[0m\u001b[0;34m\u001b[0m\u001b[0m\n\u001b[0m\u001b[1;32m   1008\u001b[0m                 \u001b[0;32mpass\u001b[0m\u001b[0;34m\u001b[0m\u001b[0;34m\u001b[0m\u001b[0m\n\u001b[1;32m   1009\u001b[0m \u001b[0;34m\u001b[0m\u001b[0m\n",
      "\u001b[0;32m~/opt/anaconda3/envs/tf2/lib/python3.7/site-packages/joblib/parallel.py\u001b[0m in \u001b[0;36mdispatch_one_batch\u001b[0;34m(self, iterator)\u001b[0m\n\u001b[1;32m    833\u001b[0m                 \u001b[0;32mreturn\u001b[0m \u001b[0;32mFalse\u001b[0m\u001b[0;34m\u001b[0m\u001b[0;34m\u001b[0m\u001b[0m\n\u001b[1;32m    834\u001b[0m             \u001b[0;32melse\u001b[0m\u001b[0;34m:\u001b[0m\u001b[0;34m\u001b[0m\u001b[0;34m\u001b[0m\u001b[0m\n\u001b[0;32m--> 835\u001b[0;31m                 \u001b[0mself\u001b[0m\u001b[0;34m.\u001b[0m\u001b[0m_dispatch\u001b[0m\u001b[0;34m(\u001b[0m\u001b[0mtasks\u001b[0m\u001b[0;34m)\u001b[0m\u001b[0;34m\u001b[0m\u001b[0;34m\u001b[0m\u001b[0m\n\u001b[0m\u001b[1;32m    836\u001b[0m                 \u001b[0;32mreturn\u001b[0m \u001b[0;32mTrue\u001b[0m\u001b[0;34m\u001b[0m\u001b[0;34m\u001b[0m\u001b[0m\n\u001b[1;32m    837\u001b[0m \u001b[0;34m\u001b[0m\u001b[0m\n",
      "\u001b[0;32m~/opt/anaconda3/envs/tf2/lib/python3.7/site-packages/joblib/parallel.py\u001b[0m in \u001b[0;36m_dispatch\u001b[0;34m(self, batch)\u001b[0m\n\u001b[1;32m    752\u001b[0m         \u001b[0;32mwith\u001b[0m \u001b[0mself\u001b[0m\u001b[0;34m.\u001b[0m\u001b[0m_lock\u001b[0m\u001b[0;34m:\u001b[0m\u001b[0;34m\u001b[0m\u001b[0;34m\u001b[0m\u001b[0m\n\u001b[1;32m    753\u001b[0m             \u001b[0mjob_idx\u001b[0m \u001b[0;34m=\u001b[0m \u001b[0mlen\u001b[0m\u001b[0;34m(\u001b[0m\u001b[0mself\u001b[0m\u001b[0;34m.\u001b[0m\u001b[0m_jobs\u001b[0m\u001b[0;34m)\u001b[0m\u001b[0;34m\u001b[0m\u001b[0;34m\u001b[0m\u001b[0m\n\u001b[0;32m--> 754\u001b[0;31m             \u001b[0mjob\u001b[0m \u001b[0;34m=\u001b[0m \u001b[0mself\u001b[0m\u001b[0;34m.\u001b[0m\u001b[0m_backend\u001b[0m\u001b[0;34m.\u001b[0m\u001b[0mapply_async\u001b[0m\u001b[0;34m(\u001b[0m\u001b[0mbatch\u001b[0m\u001b[0;34m,\u001b[0m \u001b[0mcallback\u001b[0m\u001b[0;34m=\u001b[0m\u001b[0mcb\u001b[0m\u001b[0;34m)\u001b[0m\u001b[0;34m\u001b[0m\u001b[0;34m\u001b[0m\u001b[0m\n\u001b[0m\u001b[1;32m    755\u001b[0m             \u001b[0;31m# A job can complete so quickly than its callback is\u001b[0m\u001b[0;34m\u001b[0m\u001b[0;34m\u001b[0m\u001b[0;34m\u001b[0m\u001b[0m\n\u001b[1;32m    756\u001b[0m             \u001b[0;31m# called before we get here, causing self._jobs to\u001b[0m\u001b[0;34m\u001b[0m\u001b[0;34m\u001b[0m\u001b[0;34m\u001b[0m\u001b[0m\n",
      "\u001b[0;32m~/opt/anaconda3/envs/tf2/lib/python3.7/site-packages/joblib/_parallel_backends.py\u001b[0m in \u001b[0;36mapply_async\u001b[0;34m(self, func, callback)\u001b[0m\n\u001b[1;32m    207\u001b[0m     \u001b[0;32mdef\u001b[0m \u001b[0mapply_async\u001b[0m\u001b[0;34m(\u001b[0m\u001b[0mself\u001b[0m\u001b[0;34m,\u001b[0m \u001b[0mfunc\u001b[0m\u001b[0;34m,\u001b[0m \u001b[0mcallback\u001b[0m\u001b[0;34m=\u001b[0m\u001b[0;32mNone\u001b[0m\u001b[0;34m)\u001b[0m\u001b[0;34m:\u001b[0m\u001b[0;34m\u001b[0m\u001b[0;34m\u001b[0m\u001b[0m\n\u001b[1;32m    208\u001b[0m         \u001b[0;34m\"\"\"Schedule a func to be run\"\"\"\u001b[0m\u001b[0;34m\u001b[0m\u001b[0;34m\u001b[0m\u001b[0m\n\u001b[0;32m--> 209\u001b[0;31m         \u001b[0mresult\u001b[0m \u001b[0;34m=\u001b[0m \u001b[0mImmediateResult\u001b[0m\u001b[0;34m(\u001b[0m\u001b[0mfunc\u001b[0m\u001b[0;34m)\u001b[0m\u001b[0;34m\u001b[0m\u001b[0;34m\u001b[0m\u001b[0m\n\u001b[0m\u001b[1;32m    210\u001b[0m         \u001b[0;32mif\u001b[0m \u001b[0mcallback\u001b[0m\u001b[0;34m:\u001b[0m\u001b[0;34m\u001b[0m\u001b[0;34m\u001b[0m\u001b[0m\n\u001b[1;32m    211\u001b[0m             \u001b[0mcallback\u001b[0m\u001b[0;34m(\u001b[0m\u001b[0mresult\u001b[0m\u001b[0;34m)\u001b[0m\u001b[0;34m\u001b[0m\u001b[0;34m\u001b[0m\u001b[0m\n",
      "\u001b[0;32m~/opt/anaconda3/envs/tf2/lib/python3.7/site-packages/joblib/_parallel_backends.py\u001b[0m in \u001b[0;36m__init__\u001b[0;34m(self, batch)\u001b[0m\n\u001b[1;32m    588\u001b[0m         \u001b[0;31m# Don't delay the application, to avoid keeping the input\u001b[0m\u001b[0;34m\u001b[0m\u001b[0;34m\u001b[0m\u001b[0;34m\u001b[0m\u001b[0m\n\u001b[1;32m    589\u001b[0m         \u001b[0;31m# arguments in memory\u001b[0m\u001b[0;34m\u001b[0m\u001b[0;34m\u001b[0m\u001b[0;34m\u001b[0m\u001b[0m\n\u001b[0;32m--> 590\u001b[0;31m         \u001b[0mself\u001b[0m\u001b[0;34m.\u001b[0m\u001b[0mresults\u001b[0m \u001b[0;34m=\u001b[0m \u001b[0mbatch\u001b[0m\u001b[0;34m(\u001b[0m\u001b[0;34m)\u001b[0m\u001b[0;34m\u001b[0m\u001b[0;34m\u001b[0m\u001b[0m\n\u001b[0m\u001b[1;32m    591\u001b[0m \u001b[0;34m\u001b[0m\u001b[0m\n\u001b[1;32m    592\u001b[0m     \u001b[0;32mdef\u001b[0m \u001b[0mget\u001b[0m\u001b[0;34m(\u001b[0m\u001b[0mself\u001b[0m\u001b[0;34m)\u001b[0m\u001b[0;34m:\u001b[0m\u001b[0;34m\u001b[0m\u001b[0;34m\u001b[0m\u001b[0m\n",
      "\u001b[0;32m~/opt/anaconda3/envs/tf2/lib/python3.7/site-packages/joblib/parallel.py\u001b[0m in \u001b[0;36m__call__\u001b[0;34m(self)\u001b[0m\n\u001b[1;32m    254\u001b[0m         \u001b[0;32mwith\u001b[0m \u001b[0mparallel_backend\u001b[0m\u001b[0;34m(\u001b[0m\u001b[0mself\u001b[0m\u001b[0;34m.\u001b[0m\u001b[0m_backend\u001b[0m\u001b[0;34m,\u001b[0m \u001b[0mn_jobs\u001b[0m\u001b[0;34m=\u001b[0m\u001b[0mself\u001b[0m\u001b[0;34m.\u001b[0m\u001b[0m_n_jobs\u001b[0m\u001b[0;34m)\u001b[0m\u001b[0;34m:\u001b[0m\u001b[0;34m\u001b[0m\u001b[0;34m\u001b[0m\u001b[0m\n\u001b[1;32m    255\u001b[0m             return [func(*args, **kwargs)\n\u001b[0;32m--> 256\u001b[0;31m                     for func, args, kwargs in self.items]\n\u001b[0m\u001b[1;32m    257\u001b[0m \u001b[0;34m\u001b[0m\u001b[0m\n\u001b[1;32m    258\u001b[0m     \u001b[0;32mdef\u001b[0m \u001b[0m__len__\u001b[0m\u001b[0;34m(\u001b[0m\u001b[0mself\u001b[0m\u001b[0;34m)\u001b[0m\u001b[0;34m:\u001b[0m\u001b[0;34m\u001b[0m\u001b[0;34m\u001b[0m\u001b[0m\n",
      "\u001b[0;32m~/opt/anaconda3/envs/tf2/lib/python3.7/site-packages/joblib/parallel.py\u001b[0m in \u001b[0;36m<listcomp>\u001b[0;34m(.0)\u001b[0m\n\u001b[1;32m    254\u001b[0m         \u001b[0;32mwith\u001b[0m \u001b[0mparallel_backend\u001b[0m\u001b[0;34m(\u001b[0m\u001b[0mself\u001b[0m\u001b[0;34m.\u001b[0m\u001b[0m_backend\u001b[0m\u001b[0;34m,\u001b[0m \u001b[0mn_jobs\u001b[0m\u001b[0;34m=\u001b[0m\u001b[0mself\u001b[0m\u001b[0;34m.\u001b[0m\u001b[0m_n_jobs\u001b[0m\u001b[0;34m)\u001b[0m\u001b[0;34m:\u001b[0m\u001b[0;34m\u001b[0m\u001b[0;34m\u001b[0m\u001b[0m\n\u001b[1;32m    255\u001b[0m             return [func(*args, **kwargs)\n\u001b[0;32m--> 256\u001b[0;31m                     for func, args, kwargs in self.items]\n\u001b[0m\u001b[1;32m    257\u001b[0m \u001b[0;34m\u001b[0m\u001b[0m\n\u001b[1;32m    258\u001b[0m     \u001b[0;32mdef\u001b[0m \u001b[0m__len__\u001b[0m\u001b[0;34m(\u001b[0m\u001b[0mself\u001b[0m\u001b[0;34m)\u001b[0m\u001b[0;34m:\u001b[0m\u001b[0;34m\u001b[0m\u001b[0;34m\u001b[0m\u001b[0m\n",
      "\u001b[0;32m~/opt/anaconda3/envs/tf2/lib/python3.7/site-packages/sklearn/utils/fixes.py\u001b[0m in \u001b[0;36m__call__\u001b[0;34m(self, *args, **kwargs)\u001b[0m\n\u001b[1;32m    220\u001b[0m     \u001b[0;32mdef\u001b[0m \u001b[0m__call__\u001b[0m\u001b[0;34m(\u001b[0m\u001b[0mself\u001b[0m\u001b[0;34m,\u001b[0m \u001b[0;34m*\u001b[0m\u001b[0margs\u001b[0m\u001b[0;34m,\u001b[0m \u001b[0;34m**\u001b[0m\u001b[0mkwargs\u001b[0m\u001b[0;34m)\u001b[0m\u001b[0;34m:\u001b[0m\u001b[0;34m\u001b[0m\u001b[0;34m\u001b[0m\u001b[0m\n\u001b[1;32m    221\u001b[0m         \u001b[0;32mwith\u001b[0m \u001b[0mconfig_context\u001b[0m\u001b[0;34m(\u001b[0m\u001b[0;34m**\u001b[0m\u001b[0mself\u001b[0m\u001b[0;34m.\u001b[0m\u001b[0mconfig\u001b[0m\u001b[0;34m)\u001b[0m\u001b[0;34m:\u001b[0m\u001b[0;34m\u001b[0m\u001b[0;34m\u001b[0m\u001b[0m\n\u001b[0;32m--> 222\u001b[0;31m             \u001b[0;32mreturn\u001b[0m \u001b[0mself\u001b[0m\u001b[0;34m.\u001b[0m\u001b[0mfunction\u001b[0m\u001b[0;34m(\u001b[0m\u001b[0;34m*\u001b[0m\u001b[0margs\u001b[0m\u001b[0;34m,\u001b[0m \u001b[0;34m**\u001b[0m\u001b[0mkwargs\u001b[0m\u001b[0;34m)\u001b[0m\u001b[0;34m\u001b[0m\u001b[0;34m\u001b[0m\u001b[0m\n\u001b[0m",
      "\u001b[0;32m~/opt/anaconda3/envs/tf2/lib/python3.7/site-packages/sklearn/pipeline.py\u001b[0m in \u001b[0;36m_transform_one\u001b[0;34m(transformer, X, y, weight, **fit_params)\u001b[0m\n\u001b[1;32m    731\u001b[0m \u001b[0;34m\u001b[0m\u001b[0m\n\u001b[1;32m    732\u001b[0m \u001b[0;32mdef\u001b[0m \u001b[0m_transform_one\u001b[0m\u001b[0;34m(\u001b[0m\u001b[0mtransformer\u001b[0m\u001b[0;34m,\u001b[0m \u001b[0mX\u001b[0m\u001b[0;34m,\u001b[0m \u001b[0my\u001b[0m\u001b[0;34m,\u001b[0m \u001b[0mweight\u001b[0m\u001b[0;34m,\u001b[0m \u001b[0;34m**\u001b[0m\u001b[0mfit_params\u001b[0m\u001b[0;34m)\u001b[0m\u001b[0;34m:\u001b[0m\u001b[0;34m\u001b[0m\u001b[0;34m\u001b[0m\u001b[0m\n\u001b[0;32m--> 733\u001b[0;31m     \u001b[0mres\u001b[0m \u001b[0;34m=\u001b[0m \u001b[0mtransformer\u001b[0m\u001b[0;34m.\u001b[0m\u001b[0mtransform\u001b[0m\u001b[0;34m(\u001b[0m\u001b[0mX\u001b[0m\u001b[0;34m)\u001b[0m\u001b[0;34m\u001b[0m\u001b[0;34m\u001b[0m\u001b[0m\n\u001b[0m\u001b[1;32m    734\u001b[0m     \u001b[0;31m# if we have a weight for this transformer, multiply output\u001b[0m\u001b[0;34m\u001b[0m\u001b[0;34m\u001b[0m\u001b[0;34m\u001b[0m\u001b[0m\n\u001b[1;32m    735\u001b[0m     \u001b[0;32mif\u001b[0m \u001b[0mweight\u001b[0m \u001b[0;32mis\u001b[0m \u001b[0;32mNone\u001b[0m\u001b[0;34m:\u001b[0m\u001b[0;34m\u001b[0m\u001b[0;34m\u001b[0m\u001b[0m\n",
      "\u001b[0;32m~/opt/anaconda3/envs/tf2/lib/python3.7/site-packages/sklearn/preprocessing/_encoders.py\u001b[0m in \u001b[0;36mtransform\u001b[0;34m(self, X)\u001b[0m\n\u001b[1;32m    460\u001b[0m         \u001b[0;31m# validation of X happens in _check_X called by _transform\u001b[0m\u001b[0;34m\u001b[0m\u001b[0;34m\u001b[0m\u001b[0;34m\u001b[0m\u001b[0m\n\u001b[1;32m    461\u001b[0m         X_int, X_mask = self._transform(X, handle_unknown=self.handle_unknown,\n\u001b[0;32m--> 462\u001b[0;31m                                         force_all_finite='allow-nan')\n\u001b[0m\u001b[1;32m    463\u001b[0m \u001b[0;34m\u001b[0m\u001b[0m\n\u001b[1;32m    464\u001b[0m         \u001b[0mn_samples\u001b[0m\u001b[0;34m,\u001b[0m \u001b[0mn_features\u001b[0m \u001b[0;34m=\u001b[0m \u001b[0mX_int\u001b[0m\u001b[0;34m.\u001b[0m\u001b[0mshape\u001b[0m\u001b[0;34m\u001b[0m\u001b[0;34m\u001b[0m\u001b[0m\n",
      "\u001b[0;32m~/opt/anaconda3/envs/tf2/lib/python3.7/site-packages/sklearn/preprocessing/_encoders.py\u001b[0m in \u001b[0;36m_transform\u001b[0;34m(self, X, handle_unknown, force_all_finite)\u001b[0m\n\u001b[1;32m    134\u001b[0m                     msg = (\"Found unknown categories {0} in column {1}\"\n\u001b[1;32m    135\u001b[0m                            \" during transform\".format(diff, i))\n\u001b[0;32m--> 136\u001b[0;31m                     \u001b[0;32mraise\u001b[0m \u001b[0mValueError\u001b[0m\u001b[0;34m(\u001b[0m\u001b[0mmsg\u001b[0m\u001b[0;34m)\u001b[0m\u001b[0;34m\u001b[0m\u001b[0;34m\u001b[0m\u001b[0m\n\u001b[0m\u001b[1;32m    137\u001b[0m                 \u001b[0;32melse\u001b[0m\u001b[0;34m:\u001b[0m\u001b[0;34m\u001b[0m\u001b[0;34m\u001b[0m\u001b[0m\n\u001b[1;32m    138\u001b[0m                     \u001b[0;31m# Set the problematic rows to an acceptable value and\u001b[0m\u001b[0;34m\u001b[0m\u001b[0;34m\u001b[0m\u001b[0;34m\u001b[0m\u001b[0m\n",
      "\u001b[0;31mValueError\u001b[0m: Found unknown categories ['https://www.airbnb.com/rooms/6118359', 'https://www.airbnb.com/rooms/3726391', 'https://www.airbnb.com/rooms/3604931', 'https://www.airbnb.com/rooms/888967', 'https://www.airbnb.com/rooms/580182', 'https://www.airbnb.com/rooms/6214998', 'https://www.airbnb.com/rooms/4041868', 'https://www.airbnb.com/rooms/72743', 'https://www.airbnb.com/rooms/6360895', 'https://www.airbnb.com/rooms/7762347', 'https://www.airbnb.com/rooms/7013085', 'https://www.airbnb.com/rooms/808811', 'https://www.airbnb.com/rooms/9410043', 'https://www.airbnb.com/rooms/6748502', 'https://www.airbnb.com/rooms/6328150', 'https://www.airbnb.com/rooms/4520099', 'https://www.airbnb.com/rooms/9492036', 'https://www.airbnb.com/rooms/7075357', 'https://www.airbnb.com/rooms/108468', 'https://www.airbnb.com/rooms/7802266', 'https://www.airbnb.com/rooms/6765045', 'https://www.airbnb.com/rooms/8389809', 'https://www.airbnb.com/rooms/5978498', 'https://www.airbnb.com/rooms/8193332', 'https://www.airbnb.com/rooms/1970725', 'https://www.airbnb.com/rooms/6436772', 'https://www.airbnb.com/rooms/9138600', 'https://www.airbnb.com/rooms/7872980', 'https://www.airbnb.com/rooms/9238818', 'https://www.airbnb.com/rooms/4664312', 'https://www.airbnb.com/rooms/4783585', 'https://www.airbnb.com/rooms/3251016', 'https://www.airbnb.com/rooms/7418814', 'https://www.airbnb.com/rooms/5021081', 'https://www.airbnb.com/rooms/8505940', 'https://www.airbnb.com/rooms/1090307', 'https://www.airbnb.com/rooms/7241905', 'https://www.airbnb.com/rooms/7870538', 'https://www.airbnb.com/rooms/9768655', 'https://www.airbnb.com/rooms/8907548', 'https://www.airbnb.com/rooms/10077121', 'https://www.airbnb.com/rooms/9597947', 'https://www.airbnb.com/rooms/1349175', 'https://www.airbnb.com/rooms/4546924', 'https://www.airbnb.com/rooms/3584790', 'https://www.airbnb.com/rooms/2898401', 'https://www.airbnb.com/rooms/6586979', 'https://www.airbnb.com/rooms/6915439', 'https://www.airbnb.com/rooms/7202016', 'https://www.airbnb.com/rooms/241032', 'https://www.airbnb.com/rooms/762029', 'https://www.airbnb.com/rooms/491958', 'https://www.airbnb.com/rooms/6364753', 'https://www.airbnb.com/rooms/7724630', 'https://www.airbnb.com/rooms/5078876', 'https://www.airbnb.com/rooms/7698916', 'https://www.airbnb.com/rooms/2056276', 'https://www.airbnb.com/rooms/3413183', 'https://www.airbnb.com/rooms/3926008', 'https://www.airbnb.com/rooms/843812', 'https://www.airbnb.com/rooms/6652199', 'https://www.airbnb.com/rooms/7066118', 'https://www.airbnb.com/rooms/9389755', 'https://www.airbnb.com/rooms/9938792', 'https://www.airbnb.com/rooms/4023177', 'https://www.airbnb.com/rooms/4122325', 'https://www.airbnb.com/rooms/8606766', 'https://www.airbnb.com/rooms/4137114', 'https://www.airbnb.com/rooms/7350870', 'https://www.airbnb.com/rooms/7420762', 'https://www.airbnb.com/rooms/9415562', 'https://www.airbnb.com/rooms/7965184', 'https://www.airbnb.com/rooms/4184211', 'https://www.airbnb.com/rooms/3657819', 'https://www.airbnb.com/rooms/7800143', 'https://www.airbnb.com/rooms/7620570', 'https://www.airbnb.com/rooms/9137398', 'https://www.airbnb.com/rooms/1818754', 'https://www.airbnb.com/rooms/4614955', 'https://www.airbnb.com/rooms/8017832', 'https://www.airbnb.com/rooms/8652185', 'https://www.airbnb.com/rooms/6118198', 'https://www.airbnb.com/rooms/2112625', 'https://www.airbnb.com/rooms/8703208', 'https://www.airbnb.com/rooms/7821351', 'https://www.airbnb.com/rooms/3308825', 'https://www.airbnb.com/rooms/7454026', 'https://www.airbnb.com/rooms/5052459', 'https://www.airbnb.com/rooms/7714294', 'https://www.airbnb.com/rooms/6245498', 'https://www.airbnb.com/rooms/6902752', 'https://www.airbnb.com/rooms/353039', 'https://www.airbnb.com/rooms/3868138', 'https://www.airbnb.com/rooms/10211716', 'https://www.airbnb.com/rooms/8820414', 'https://www.airbnb.com/rooms/3258386', 'https://www.airbnb.com/rooms/10020221', 'https://www.airbnb.com/rooms/9596', 'https://www.airbnb.com/rooms/8310576', 'https://www.airbnb.com/rooms/7875887', 'https://www.airbnb.com/rooms/8474253', 'https://www.airbnb.com/rooms/8054518', 'https://www.airbnb.com/rooms/7529124', 'https://www.airbnb.com/rooms/6119785', 'https://www.airbnb.com/rooms/2995996', 'https://www.airbnb.com/rooms/1147349', 'https://www.airbnb.com/rooms/4681687', 'https://www.airbnb.com/rooms/6837751', 'https://www.airbnb.com/rooms/9922140', 'https://www.airbnb.com/rooms/6782993', 'https://www.airbnb.com/rooms/7662775', 'https://www.airbnb.com/rooms/7938153', 'https://www.airbnb.com/rooms/3139972', 'https://www.airbnb.com/rooms/2970666', 'https://www.airbnb.com/rooms/6079131', 'https://www.airbnb.com/rooms/9319891', 'https://www.airbnb.com/rooms/6120046', 'https://www.airbnb.com/rooms/3404557', 'https://www.airbnb.com/rooms/240920', 'https://www.airbnb.com/rooms/9695233', 'https://www.airbnb.com/rooms/8053128', 'https://www.airbnb.com/rooms/7007598', 'https://www.airbnb.com/rooms/4401544', 'https://www.airbnb.com/rooms/5020861', 'https://www.airbnb.com/rooms/4892529', 'https://www.airbnb.com/rooms/1148517', 'https://www.airbnb.com/rooms/9095668', 'https://www.airbnb.com/rooms/6569950', 'https://www.airbnb.com/rooms/7071331', 'https://www.airbnb.com/rooms/7809718', 'https://www.airbnb.com/rooms/6087451', 'https://www.airbnb.com/rooms/936378', 'https://www.airbnb.com/rooms/6156470', 'https://www.airbnb.com/rooms/1521633', 'https://www.airbnb.com/rooms/6823597', 'https://www.airbnb.com/rooms/2037250', 'https://www.airbnb.com/rooms/9012948', 'https://www.airbnb.com/rooms/3487824', 'https://www.airbnb.com/rooms/9545281', 'https://www.airbnb.com/rooms/10022421', 'https://www.airbnb.com/rooms/5328449', 'https://www.airbnb.com/rooms/7369', 'https://www.airbnb.com/rooms/8427254', 'https://www.airbnb.com/rooms/10126050', 'https://www.airbnb.com/rooms/4933447', 'https://www.airbnb.com/rooms/5683765', 'https://www.airbnb.com/rooms/5336585', 'https://www.airbnb.com/rooms/7500728', 'https://www.airbnb.com/rooms/8409962', 'https://www.airbnb.com/rooms/7073650', 'https://www.airbnb.com/rooms/74328', 'https://www.airbnb.com/rooms/1407502', 'https://www.airbnb.com/rooms/931758', 'https://www.airbnb.com/rooms/1386306', 'https://www.airbnb.com/rooms/7651653', 'https://www.airbnb.com/rooms/458191', 'https://www.airbnb.com/rooms/9331449', 'https://www.airbnb.com/rooms/3208330', 'https://www.airbnb.com/rooms/8612922', 'https://www.airbnb.com/rooms/706385', 'https://www.airbnb.com/rooms/6591894', 'https://www.airbnb.com/rooms/656909', 'https://www.airbnb.com/rooms/8443258', 'https://www.airbnb.com/rooms/8783900', 'https://www.airbnb.com/rooms/7984550', 'https://www.airbnb.com/rooms/2520890', 'https://www.airbnb.com/rooms/9352620', 'https://www.airbnb.com/rooms/224763', 'https://www.airbnb.com/rooms/9545766', 'https://www.airbnb.com/rooms/7360078', 'https://www.airbnb.com/rooms/1159111', 'https://www.airbnb.com/rooms/8632651', 'https://www.airbnb.com/rooms/9513636', 'https://www.airbnb.com/rooms/5487934', 'https://www.airbnb.com/rooms/1599856', 'https://www.airbnb.com/rooms/9024838', 'https://www.airbnb.com/rooms/19611', 'https://www.airbnb.com/rooms/4566393', 'https://www.airbnb.com/rooms/9727246', 'https://www.airbnb.com/rooms/9651755', 'https://www.airbnb.com/rooms/4809486', 'https://www.airbnb.com/rooms/3040278', 'https://www.airbnb.com/rooms/2467550', 'https://www.airbnb.com/rooms/8566501', 'https://www.airbnb.com/rooms/3143227', 'https://www.airbnb.com/rooms/4735761', 'https://www.airbnb.com/rooms/8474294', 'https://www.airbnb.com/rooms/5029665', 'https://www.airbnb.com/rooms/8350401', 'https://www.airbnb.com/rooms/1961950', 'https://www.airbnb.com/rooms/6993978', 'https://www.airbnb.com/rooms/2610187', 'https://www.airbnb.com/rooms/4645208', 'https://www.airbnb.com/rooms/5991734', 'https://www.airbnb.com/rooms/8236094', 'https://www.airbnb.com/rooms/3870937', 'https://www.airbnb.com/rooms/9492873', 'https://www.airbnb.com/rooms/9835920', 'https://www.airbnb.com/rooms/755613', 'https://www.airbnb.com/rooms/5499882', 'https://www.airbnb.com/rooms/5578943', 'https://www.airbnb.com/rooms/3898413', 'https://www.airbnb.com/rooms/9925458', 'https://www.airbnb.com/rooms/4311244', 'https://www.airbnb.com/rooms/10274175', 'https://www.airbnb.com/rooms/6913706', 'https://www.airbnb.com/rooms/2976798', 'https://www.airbnb.com/rooms/4710869', 'https://www.airbnb.com/rooms/3404700', 'https://www.airbnb.com/rooms/8815638', 'https://www.airbnb.com/rooms/257140', 'https://www.airbnb.com/rooms/9067268', 'https://www.airbnb.com/rooms/8014547', 'https://www.airbnb.com/rooms/7714585', 'https://www.airbnb.com/rooms/7777381', 'https://www.airbnb.com/rooms/7692789', 'https://www.airbnb.com/rooms/8869680', 'https://www.airbnb.com/rooms/555182', 'https://www.airbnb.com/rooms/394408', 'https://www.airbnb.com/rooms/4773614', 'https://www.airbnb.com/rooms/1593939', 'https://www.airbnb.com/rooms/8759443', 'https://www.airbnb.com/rooms/3489083', 'https://www.airbnb.com/rooms/9364220', 'https://www.airbnb.com/rooms/108765', 'https://www.airbnb.com/rooms/43373', 'https://www.airbnb.com/rooms/4464542', 'https://www.airbnb.com/rooms/3488436', 'https://www.airbnb.com/rooms/10235136', 'https://www.airbnb.com/rooms/1520449', 'https://www.airbnb.com/rooms/3479851', 'https://www.airbnb.com/rooms/496074', 'https://www.airbnb.com/rooms/1175308', 'https://www.airbnb.com/rooms/6750264', 'https://www.airbnb.com/rooms/1030615', 'https://www.airbnb.com/rooms/610989', 'https://www.airbnb.com/rooms/6512378', 'https://www.airbnb.com/rooms/7127036', 'https://www.airbnb.com/rooms/1244053', 'https://www.airbnb.com/rooms/1494986', 'https://www.airbnb.com/rooms/1742425', 'https://www.airbnb.com/rooms/7037291', 'https://www.airbnb.com/rooms/1747184', 'https://www.airbnb.com/rooms/7007118', 'https://www.airbnb.com/rooms/619366', 'https://www.airbnb.com/rooms/7247767', 'https://www.airbnb.com/rooms/5123904', 'https://www.airbnb.com/rooms/613151', 'https://www.airbnb.com/rooms/3738724', 'https://www.airbnb.com/rooms/8174626', 'https://www.airbnb.com/rooms/585418', 'https://www.airbnb.com/rooms/10309898', 'https://www.airbnb.com/rooms/5978216', 'https://www.airbnb.com/rooms/10140582', 'https://www.airbnb.com/rooms/9679741', 'https://www.airbnb.com/rooms/103466', 'https://www.airbnb.com/rooms/1457330', 'https://www.airbnb.com/rooms/6214517', 'https://www.airbnb.com/rooms/752483', 'https://www.airbnb.com/rooms/3424991', 'https://www.airbnb.com/rooms/872152', 'https://www.airbnb.com/rooms/8828781', 'https://www.airbnb.com/rooms/8755762', 'https://www.airbnb.com/rooms/5652705', 'https://www.airbnb.com/rooms/8536441', 'https://www.airbnb.com/rooms/8683011', 'https://www.airbnb.com/rooms/8958290', 'https://www.airbnb.com/rooms/8653843', 'https://www.airbnb.com/rooms/1209255', 'https://www.airbnb.com/rooms/6514446', 'https://www.airbnb.com/rooms/189156', 'https://www.airbnb.com/rooms/6523393', 'https://www.airbnb.com/rooms/3231850', 'https://www.airbnb.com/rooms/9215782', 'https://www.airbnb.com/rooms/6452801', 'https://www.airbnb.com/rooms/10281965', 'https://www.airbnb.com/rooms/3504521', 'https://www.airbnb.com/rooms/5308429', 'https://www.airbnb.com/rooms/8194164', 'https://www.airbnb.com/rooms/841274', 'https://www.airbnb.com/rooms/3024336', 'https://www.airbnb.com/rooms/353110', 'https://www.airbnb.com/rooms/4485424', 'https://www.airbnb.com/rooms/8551871', 'https://www.airbnb.com/rooms/5242148', 'https://www.airbnb.com/rooms/5562674', 'https://www.airbnb.com/rooms/7387294', 'https://www.airbnb.com/rooms/7439802', 'https://www.airbnb.com/rooms/1114695', 'https://www.airbnb.com/rooms/2898954', 'https://www.airbnb.com/rooms/4856986', 'https://www.airbnb.com/rooms/5042014', 'https://www.airbnb.com/rooms/670056', 'https://www.airbnb.com/rooms/9370866', 'https://www.airbnb.com/rooms/4941356', 'https://www.airbnb.com/rooms/4871348', 'https://www.airbnb.com/rooms/6335327', 'https://www.airbnb.com/rooms/4526943', 'https://www.airbnb.com/rooms/6343866', 'https://www.airbnb.com/rooms/4288801', 'https://www.airbnb.com/rooms/8355276', 'https://www.airbnb.com/rooms/4922836', 'https://www.airbnb.com/rooms/671828', 'https://www.airbnb.com/rooms/8472954', 'https://www.airbnb.com/rooms/2197982', 'https://www.airbnb.com/rooms/8723086', 'https://www.airbnb.com/rooms/8637174', 'https://www.airbnb.com/rooms/4370312', 'https://www.airbnb.com/rooms/5365612', 'https://www.airbnb.com/rooms/19619', 'https://www.airbnb.com/rooms/4258762', 'https://www.airbnb.com/rooms/38545', 'https://www.airbnb.com/rooms/430609', 'https://www.airbnb.com/rooms/1732441', 'https://www.airbnb.com/rooms/7258811', 'https://www.airbnb.com/rooms/4163306', 'https://www.airbnb.com/rooms/5319948', 'https://www.airbnb.com/rooms/4084398', 'https://www.airbnb.com/rooms/5056580', 'https://www.airbnb.com/rooms/8446766', 'https://www.airbnb.com/rooms/3401644', 'https://www.airbnb.com/rooms/1055661', 'https://www.airbnb.com/rooms/1589461', 'https://www.airbnb.com/rooms/937370', 'https://www.airbnb.com/rooms/7727428', 'https://www.airbnb.com/rooms/5058302', 'https://www.airbnb.com/rooms/4388148', 'https://www.airbnb.com/rooms/1815304', 'https://www.airbnb.com/rooms/7035498', 'https://www.airbnb.com/rooms/6492880', 'https://www.airbnb.com/rooms/4360604', 'https://www.airbnb.com/rooms/8643209', 'https://www.airbnb.com/rooms/5164581', 'https://www.airbnb.com/rooms/10208623', 'https://www.airbnb.com/rooms/9999759', 'https://www.airbnb.com/rooms/8579782', 'https://www.airbnb.com/rooms/7647221', 'https://www.airbnb.com/rooms/7110655', 'https://www.airbnb.com/rooms/8308353', 'https://www.airbnb.com/rooms/5051529', 'https://www.airbnb.com/rooms/8193054', 'https://www.airbnb.com/rooms/4531944', 'https://www.airbnb.com/rooms/7266662', 'https://www.airbnb.com/rooms/8327083', 'https://www.airbnb.com/rooms/5252877', 'https://www.airbnb.com/rooms/10339144', 'https://www.airbnb.com/rooms/6886633', 'https://www.airbnb.com/rooms/6768768', 'https://www.airbnb.com/rooms/1790020', 'https://www.airbnb.com/rooms/7713043', 'https://www.airbnb.com/rooms/3697351', 'https://www.airbnb.com/rooms/8338849', 'https://www.airbnb.com/rooms/5126077', 'https://www.airbnb.com/rooms/7860837', 'https://www.airbnb.com/rooms/5270886', 'https://www.airbnb.com/rooms/9685856', 'https://www.airbnb.com/rooms/9444769', 'https://www.airbnb.com/rooms/1920477', 'https://www.airbnb.com/rooms/2158992', 'https://www.airbnb.com/rooms/9663221', 'https://www.airbnb.com/rooms/10318171', 'https://www.airbnb.com/rooms/9531265', 'https://www.airbnb.com/rooms/8342429', 'https://www.airbnb.com/rooms/1851863', 'https://www.airbnb.com/rooms/6854019', 'https://www.airbnb.com/rooms/6837338', 'https://www.airbnb.com/rooms/3157738', 'https://www.airbnb.com/rooms/8131881', 'https://www.airbnb.com/rooms/3768742', 'https://www.airbnb.com/rooms/9348375', 'https://www.airbnb.com/rooms/9217150', 'https://www.airbnb.com/rooms/5804875', 'https://www.airbnb.com/rooms/2194715', 'https://www.airbnb.com/rooms/5548982', 'https://www.airbnb.com/rooms/2130652', 'https://www.airbnb.com/rooms/7678064', 'https://www.airbnb.com/rooms/3303376', 'https://www.airbnb.com/rooms/5989894', 'https://www.airbnb.com/rooms/909102', 'https://www.airbnb.com/rooms/9220485', 'https://www.airbnb.com/rooms/2004931', 'https://www.airbnb.com/rooms/52525', 'https://www.airbnb.com/rooms/286080', 'https://www.airbnb.com/rooms/4423130', 'https://www.airbnb.com/rooms/3246706', 'https://www.airbnb.com/rooms/6342327', 'https://www.airbnb.com/rooms/7619060', 'https://www.airbnb.com/rooms/4251235', 'https://www.airbnb.com/rooms/10122924', 'https://www.airbnb.com/rooms/1672979', 'https://www.airbnb.com/rooms/7559939', 'https://www.airbnb.com/rooms/5579427', 'https://www.airbnb.com/rooms/380950', 'https://www.airbnb.com/rooms/8483477', 'https://www.airbnb.com/rooms/7638282', 'https://www.airbnb.com/rooms/1455269', 'https://www.airbnb.com/rooms/2489283', 'https://www.airbnb.com/rooms/8817038', 'https://www.airbnb.com/rooms/6882211', 'https://www.airbnb.com/rooms/10272763', 'https://www.airbnb.com/rooms/4025954', 'https://www.airbnb.com/rooms/8373664', 'https://www.airbnb.com/rooms/4163851', 'https://www.airbnb.com/rooms/7839723', 'https://www.airbnb.com/rooms/6916167', 'https://www.airbnb.com/rooms/757840', 'https://www.airbnb.com/rooms/4236723', 'https://www.airbnb.com/rooms/7222136', 'https://www.airbnb.com/rooms/86185', 'https://www.airbnb.com/rooms/7883181', 'https://www.airbnb.com/rooms/1594219', 'https://www.airbnb.com/rooms/4577542', 'https://www.airbnb.com/rooms/6545602', 'https://www.airbnb.com/rooms/8446541', 'https://www.airbnb.com/rooms/7665114', 'https://www.airbnb.com/rooms/9961538', 'https://www.airbnb.com/rooms/8104742', 'https://www.airbnb.com/rooms/8090541', 'https://www.airbnb.com/rooms/6362918', 'https://www.airbnb.com/rooms/9298045', 'https://www.airbnb.com/rooms/9063355', 'https://www.airbnb.com/rooms/817115', 'https://www.airbnb.com/rooms/9116815', 'https://www.airbnb.com/rooms/9094836', 'https://www.airbnb.com/rooms/8902887', 'https://www.airbnb.com/rooms/1978743', 'https://www.airbnb.com/rooms/3282760', 'https://www.airbnb.com/rooms/7843145', 'https://www.airbnb.com/rooms/5020848', 'https://www.airbnb.com/rooms/5308875', 'https://www.airbnb.com/rooms/8957312', 'https://www.airbnb.com/rooms/8578490', 'https://www.airbnb.com/rooms/8322107', 'https://www.airbnb.com/rooms/1048798', 'https://www.airbnb.com/rooms/4135710', 'https://www.airbnb.com/rooms/911001', 'https://www.airbnb.com/rooms/8102349', 'https://www.airbnb.com/rooms/4324917', 'https://www.airbnb.com/rooms/3884805', 'https://www.airbnb.com/rooms/3884851', 'https://www.airbnb.com/rooms/3803947', 'https://www.airbnb.com/rooms/9473312', 'https://www.airbnb.com/rooms/8150145', 'https://www.airbnb.com/rooms/6644760', 'https://www.airbnb.com/rooms/9521903', 'https://www.airbnb.com/rooms/443736', 'https://www.airbnb.com/rooms/9462315', 'https://www.airbnb.com/rooms/3783162', 'https://www.airbnb.com/rooms/699460', 'https://www.airbnb.com/rooms/6474341', 'https://www.airbnb.com/rooms/5900224', 'https://www.airbnb.com/rooms/2522091', 'https://www.airbnb.com/rooms/8221520', 'https://www.airbnb.com/rooms/7459637', 'https://www.airbnb.com/rooms/7773851', 'https://www.airbnb.com/rooms/10068879', 'https://www.airbnb.com/rooms/10299195', 'https://www.airbnb.com/rooms/8102064', 'https://www.airbnb.com/rooms/7735313', 'https://www.airbnb.com/rooms/9419', 'https://www.airbnb.com/rooms/4235559', 'https://www.airbnb.com/rooms/7824870', 'https://www.airbnb.com/rooms/6637899', 'https://www.airbnb.com/rooms/6627184', 'https://www.airbnb.com/rooms/9497431', 'https://www.airbnb.com/rooms/3961077', 'https://www.airbnb.com/rooms/9154294', 'https://www.airbnb.com/rooms/9282348', 'https://www.airbnb.com/rooms/2856806', 'https://www.airbnb.com/rooms/7095802', 'https://www.airbnb.com/rooms/278192', 'https://www.airbnb.com/rooms/7131797', 'https://www.airbnb.com/rooms/4638785', 'https://www.airbnb.com/rooms/385438', 'https://www.airbnb.com/rooms/6627129', 'https://www.airbnb.com/rooms/8674765', 'https://www.airbnb.com/rooms/6392029', 'https://www.airbnb.com/rooms/9863312', 'https://www.airbnb.com/rooms/2943860', 'https://www.airbnb.com/rooms/6032726', 'https://www.airbnb.com/rooms/8829089', 'https://www.airbnb.com/rooms/1264287', 'https://www.airbnb.com/rooms/3061918', 'https://www.airbnb.com/rooms/1633025', 'https://www.airbnb.com/rooms/7390195', 'https://www.airbnb.com/rooms/2508065', 'https://www.airbnb.com/rooms/2387605', 'https://www.airbnb.com/rooms/5941598', 'https://www.airbnb.com/rooms/2612025', 'https://www.airbnb.com/rooms/808134', 'https://www.airbnb.com/rooms/3382533', 'https://www.airbnb.com/rooms/5422159', 'https://www.airbnb.com/rooms/10026648', 'https://www.airbnb.com/rooms/4316910', 'https://www.airbnb.com/rooms/366301', 'https://www.airbnb.com/rooms/7748905', 'https://www.airbnb.com/rooms/9110730', 'https://www.airbnb.com/rooms/23919', 'https://www.airbnb.com/rooms/5309974', 'https://www.airbnb.com/rooms/9823290', 'https://www.airbnb.com/rooms/3994634', 'https://www.airbnb.com/rooms/3921664', 'https://www.airbnb.com/rooms/5680462', 'https://www.airbnb.com/rooms/3925572', 'https://www.airbnb.com/rooms/5249093', 'https://www.airbnb.com/rooms/2746782', 'https://www.airbnb.com/rooms/143704', 'https://www.airbnb.com/rooms/6278680', 'https://www.airbnb.com/rooms/4047058', 'https://www.airbnb.com/rooms/6363765', 'https://www.airbnb.com/rooms/3404914', 'https://www.airbnb.com/rooms/934123', 'https://www.airbnb.com/rooms/2776890', 'https://www.airbnb.com/rooms/3263071', 'https://www.airbnb.com/rooms/790860', 'https://www.airbnb.com/rooms/7204672', 'https://www.airbnb.com/rooms/7501583', 'https://www.airbnb.com/rooms/10267360', 'https://www.airbnb.com/rooms/3033913', 'https://www.airbnb.com/rooms/6325283', 'https://www.airbnb.com/rooms/8385444', 'https://www.airbnb.com/rooms/8273948', 'https://www.airbnb.com/rooms/6968101', 'https://www.airbnb.com/rooms/7840228', 'https://www.airbnb.com/rooms/1476298', 'https://www.airbnb.com/rooms/8616488', 'https://www.airbnb.com/rooms/7021702', 'https://www.airbnb.com/rooms/5874421', 'https://www.airbnb.com/rooms/8924032', 'https://www.airbnb.com/rooms/6073437', 'https://www.airbnb.com/rooms/6872650', 'https://www.airbnb.com/rooms/5625964', 'https://www.airbnb.com/rooms/59838', 'https://www.airbnb.com/rooms/4707171', 'https://www.airbnb.com/rooms/5272327', 'https://www.airbnb.com/rooms/1488166', 'https://www.airbnb.com/rooms/9477539', 'https://www.airbnb.com/rooms/2692126', 'https://www.airbnb.com/rooms/4825472', 'https://www.airbnb.com/rooms/611509', 'https://www.airbnb.com/rooms/4031625', 'https://www.airbnb.com/rooms/7278583', 'https://www.airbnb.com/rooms/9632775', 'https://www.airbnb.com/rooms/3883392', 'https://www.airbnb.com/rooms/3242605', 'https://www.airbnb.com/rooms/4668327', 'https://www.airbnb.com/rooms/4869458', 'https://www.airbnb.com/rooms/2621746', 'https://www.airbnb.com/rooms/262764', 'https://www.airbnb.com/rooms/8212989', 'https://www.airbnb.com/rooms/7616008', 'https://www.airbnb.com/rooms/6897639', 'https://www.airbnb.com/rooms/3561108', 'https://www.airbnb.com/rooms/180939', 'https://www.airbnb.com/rooms/3977605', 'https://www.airbnb.com/rooms/7701014', 'https://www.airbnb.com/rooms/486829', 'https://www.airbnb.com/rooms/8052542', 'https://www.airbnb.com/rooms/6451305', 'https://www.airbnb.com/rooms/6350606', 'https://www.airbnb.com/rooms/902609', 'https://www.airbnb.com/rooms/9410302', 'https://www.airbnb.com/rooms/4449303', 'https://www.airbnb.com/rooms/2357110', 'https://www.airbnb.com/rooms/4349344', 'https://www.airbnb.com/rooms/1709737', 'https://www.airbnb.com/rooms/4211629', 'https://www.airbnb.com/rooms/5126446', 'https://www.airbnb.com/rooms/7788695', 'https://www.airbnb.com/rooms/8326940', 'https://www.airbnb.com/rooms/10229434', 'https://www.airbnb.com/rooms/3930270', 'https://www.airbnb.com/rooms/4916433', 'https://www.airbnb.com/rooms/8799909', 'https://www.airbnb.com/rooms/7203408', 'https://www.airbnb.com/rooms/6246861', 'https://www.airbnb.com/rooms/445199', 'https://www.airbnb.com/rooms/8811945', 'https://www.airbnb.com/rooms/3994397', 'https://www.airbnb.com/rooms/6325685', 'https://www.airbnb.com/rooms/1562643', 'https://www.airbnb.com/rooms/3552006', 'https://www.airbnb.com/rooms/631445', 'https://www.airbnb.com/rooms/8293287', 'https://www.airbnb.com/rooms/6927016', 'https://www.airbnb.com/rooms/7763878', 'https://www.airbnb.com/rooms/4250367', 'https://www.airbnb.com/rooms/6528342', 'https://www.airbnb.com/rooms/7027507', 'https://www.airbnb.com/rooms/1950012', 'https://www.airbnb.com/rooms/8409695', 'https://www.airbnb.com/rooms/2688555', 'https://www.airbnb.com/rooms/6131411', 'https://www.airbnb.com/rooms/7153101', 'https://www.airbnb.com/rooms/9460', 'https://www.airbnb.com/rooms/8099917', 'https://www.airbnb.com/rooms/3144311', 'https://www.airbnb.com/rooms/6004058', 'https://www.airbnb.com/rooms/6438013', 'https://www.airbnb.com/rooms/3906076', 'https://www.airbnb.com/rooms/7791010', 'https://www.airbnb.com/rooms/7616507', 'https://www.airbnb.com/rooms/6575380', 'https://www.airbnb.com/rooms/7291403', 'https://www.airbnb.com/rooms/1820794', 'https://www.airbnb.com/rooms/719233', 'https://www.airbnb.com/rooms/1484651', 'https://www.airbnb.com/rooms/6554352', 'https://www.airbnb.com/rooms/2897897', 'https://www.airbnb.com/rooms/4752817', 'https://www.airbnb.com/rooms/9031119', 'https://www.airbnb.com/rooms/1737244', 'https://www.airbnb.com/rooms/5286781', 'https://www.airbnb.com/rooms/7329915', 'https://www.airbnb.com/rooms/3793406', 'https://www.airbnb.com/rooms/7038750', 'https://www.airbnb.com/rooms/7347229', 'https://www.airbnb.com/rooms/9217446', 'https://www.airbnb.com/rooms/2051658', 'https://www.airbnb.com/rooms/2536507', 'https://www.airbnb.com/rooms/5892185', 'https://www.airbnb.com/rooms/340706', 'https://www.airbnb.com/rooms/6495424', 'https://www.airbnb.com/rooms/4653552', 'https://www.airbnb.com/rooms/10060674', 'https://www.airbnb.com/rooms/8034871', 'https://www.airbnb.com/rooms/8455865', 'https://www.airbnb.com/rooms/6289789', 'https://www.airbnb.com/rooms/7742525', 'https://www.airbnb.com/rooms/2481869', 'https://www.airbnb.com/rooms/8459215', 'https://www.airbnb.com/rooms/5705161', 'https://www.airbnb.com/rooms/9710851', 'https://www.airbnb.com/rooms/4277026', 'https://www.airbnb.com/rooms/3281072', 'https://www.airbnb.com/rooms/6482984', 'https://www.airbnb.com/rooms/265901', 'https://www.airbnb.com/rooms/7349099', 'https://www.airbnb.com/rooms/5751177', 'https://www.airbnb.com/rooms/9098494', 'https://www.airbnb.com/rooms/7205443', 'https://www.airbnb.com/rooms/8147986', 'https://www.airbnb.com/rooms/3953611', 'https://www.airbnb.com/rooms/6655233', 'https://www.airbnb.com/rooms/1472532', 'https://www.airbnb.com/rooms/3385421', 'https://www.airbnb.com/rooms/1593991', 'https://www.airbnb.com/rooms/9025039', 'https://www.airbnb.com/rooms/10332096', 'https://www.airbnb.com/rooms/1494828', 'https://www.airbnb.com/rooms/5948003', 'https://www.airbnb.com/rooms/7455068', 'https://www.airbnb.com/rooms/7922373', 'https://www.airbnb.com/rooms/2516391', 'https://www.airbnb.com/rooms/7198282', 'https://www.airbnb.com/rooms/7036707', 'https://www.airbnb.com/rooms/5325214', 'https://www.airbnb.com/rooms/8131762', 'https://www.airbnb.com/rooms/7597244', 'https://www.airbnb.com/rooms/8072850', 'https://www.airbnb.com/rooms/5615620', 'https://www.airbnb.com/rooms/1954452', 'https://www.airbnb.com/rooms/6813483', 'https://www.airbnb.com/rooms/170273', 'https://www.airbnb.com/rooms/8054902', 'https://www.airbnb.com/rooms/5719631', 'https://www.airbnb.com/rooms/945645', 'https://www.airbnb.com/rooms/3186785', 'https://www.airbnb.com/rooms/8785768', 'https://www.airbnb.com/rooms/8086294', 'https://www.airbnb.com/rooms/9866461', 'https://www.airbnb.com/rooms/10235014', 'https://www.airbnb.com/rooms/6425735', 'https://www.airbnb.com/rooms/8559462', 'https://www.airbnb.com/rooms/2980762', 'https://www.airbnb.com/rooms/5463875', 'https://www.airbnb.com/rooms/2978929', 'https://www.airbnb.com/rooms/4432489', 'https://www.airbnb.com/rooms/9015088', 'https://www.airbnb.com/rooms/7805491', 'https://www.airbnb.com/rooms/9367465', 'https://www.airbnb.com/rooms/1772119', 'https://www.airbnb.com/rooms/7011200', 'https://www.airbnb.com/rooms/10334184', 'https://www.airbnb.com/rooms/7517684', 'https://www.airbnb.com/rooms/7161725', 'https://www.airbnb.com/rooms/3811828', 'https://www.airbnb.com/rooms/9739482', 'https://www.airbnb.com/rooms/2882641', 'https://www.airbnb.com/rooms/1100686', 'https://www.airbnb.com/rooms/8722230', 'https://www.airbnb.com/rooms/7807169', 'https://www.airbnb.com/rooms/7974112', 'https://www.airbnb.com/rooms/9813231', 'https://www.airbnb.com/rooms/9888395', 'https://www.airbnb.com/rooms/1027860', 'https://www.airbnb.com/rooms/9254900', 'https://www.airbnb.com/rooms/6316934', 'https://www.airbnb.com/rooms/4357979', 'https://www.airbnb.com/rooms/1782140', 'https://www.airbnb.com/rooms/6445741', 'https://www.airbnb.com/rooms/7952032', 'https://www.airbnb.com/rooms/565703', 'https://www.airbnb.com/rooms/4395502', 'https://www.airbnb.com/rooms/4694479', 'https://www.airbnb.com/rooms/7733192', 'https://www.airbnb.com/rooms/6882518', 'https://www.airbnb.com/rooms/5992645', 'https://www.airbnb.com/rooms/5524847', 'https://www.airbnb.com/rooms/107962', 'https://www.airbnb.com/rooms/1589681', 'https://www.airbnb.com/rooms/158953', 'https://www.airbnb.com/rooms/8689375', 'https://www.airbnb.com/rooms/797358', 'https://www.airbnb.com/rooms/1499596', 'https://www.airbnb.com/rooms/4026757', 'https://www.airbnb.com/rooms/7561254', 'https://www.airbnb.com/rooms/6701018', 'https://www.airbnb.com/rooms/535300', 'https://www.airbnb.com/rooms/8107555', 'https://www.airbnb.com/rooms/1762354', 'https://www.airbnb.com/rooms/2686624', 'https://www.airbnb.com/rooms/9097754', 'https://www.airbnb.com/rooms/6881188', 'https://www.airbnb.com/rooms/9199082', 'https://www.airbnb.com/rooms/4943016', 'https://www.airbnb.com/rooms/1880734', 'https://www.airbnb.com/rooms/4766173', 'https://www.airbnb.com/rooms/1796861', 'https://www.airbnb.com/rooms/8425013', 'https://www.airbnb.com/rooms/6935953', 'https://www.airbnb.com/rooms/6400000', 'https://www.airbnb.com/rooms/6941113', 'https://www.airbnb.com/rooms/4567243', 'https://www.airbnb.com/rooms/4384343', 'https://www.airbnb.com/rooms/5031285', 'https://www.airbnb.com/rooms/877203', 'https://www.airbnb.com/rooms/9509279', 'https://www.airbnb.com/rooms/7748866', 'https://www.airbnb.com/rooms/7249631', 'https://www.airbnb.com/rooms/7667990', 'https://www.airbnb.com/rooms/8050642', 'https://www.airbnb.com/rooms/2858482', 'https://www.airbnb.com/rooms/6475289', 'https://www.airbnb.com/rooms/6823781', 'https://www.airbnb.com/rooms/9294683', 'https://www.airbnb.com/rooms/7901725', 'https://www.airbnb.com/rooms/5364119', 'https://www.airbnb.com/rooms/598023', 'https://www.airbnb.com/rooms/2693137', 'https://www.airbnb.com/rooms/1806899', 'https://www.airbnb.com/rooms/1200083', 'https://www.airbnb.com/rooms/8170683', 'https://www.airbnb.com/rooms/7534300', 'https://www.airbnb.com/rooms/5981343', 'https://www.airbnb.com/rooms/6425652', 'https://www.airbnb.com/rooms/7802149', 'https://www.airbnb.com/rooms/4130102', 'https://www.airbnb.com/rooms/47491', 'https://www.airbnb.com/rooms/6938103', 'https://www.airbnb.com/rooms/8174285', 'https://www.airbnb.com/rooms/1429904', 'https://www.airbnb.com/rooms/5632713', 'https://www.airbnb.com/rooms/5792683'] in column 0 during transform"
     ]
    }
   ],
   "source": [
    "full_pipeline_with_predictor = Pipeline([\n",
    "        (\"preparation\", full_pipeline),\n",
    "        (\"linear\", LinearRegression())\n",
    "    ])\n",
    "\n",
    "full_pipeline_with_predictor.fit(X_train, y_train)\n",
    "y_pred = full_pipeline_with_predictor.predict(X_test)"
   ]
  },
  {
   "cell_type": "code",
   "execution_count": null,
   "metadata": {},
   "outputs": [],
   "source": []
  }
 ]
}